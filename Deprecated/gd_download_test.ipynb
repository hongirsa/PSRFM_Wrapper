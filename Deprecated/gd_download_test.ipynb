{
 "cells": [
  {
   "cell_type": "code",
   "execution_count": 11,
   "metadata": {},
   "outputs": [],
   "source": [
    "# Enable the Drive API first\n",
    "# https://developers.google.com/drive/api/v3/quickstart/python\n",
    "# Select OAuth: Desktop, then download client configuration\n",
    "# put credentials.json into the directory of the wrapper\n",
    "# https://www.thepythoncode.com/article/using-google-drive--api-in-python#Enable_the_Drive_API"
   ]
  },
  {
   "cell_type": "code",
   "execution_count": 12,
   "metadata": {},
   "outputs": [],
   "source": [
    "# authenticating code to G account\n",
    "import pickle\n",
    "import os\n",
    "import pprint\n",
    "from googleapiclient.discovery import build\n",
    "from google_auth_oauthlib.flow import InstalledAppFlow\n",
    "from google.auth.transport.requests import Request\n",
    "from tabulate import tabulate\n",
    "\n",
    "# If modifying these scopes, delete the file token.pickle.\n",
    "SCOPES = ['https://www.googleapis.com/auth/drive.metadata.readonly']\n",
    "\n",
    "# from drive quickstart page\n",
    "def get_gdrive_service():\n",
    "    creds = None\n",
    "    # The file token.pickle stores the user's access and refresh tokens, and is\n",
    "    # created automatically when the authorization flow completes for the first\n",
    "    # time.\n",
    "    if os.path.exists('token.pickle'):\n",
    "        with open('token.pickle', 'rb') as token:\n",
    "            creds = pickle.load(token)\n",
    "    # If there are no (valid) credentials available, let the user log in.\n",
    "    if not creds or not creds.valid:\n",
    "        if creds and creds.expired and creds.refresh_token:\n",
    "            creds.refresh(Request())\n",
    "        else:\n",
    "            flow = InstalledAppFlow.from_client_secrets_file(\n",
    "                'credentials.json', SCOPES)\n",
    "            creds = flow.run_local_server(port=0)\n",
    "        # Save the credentials for the next run\n",
    "        with open('token.pickle', 'wb') as token:\n",
    "            pickle.dump(creds, token)\n",
    "    # return Google Drive API service\n",
    "    return build('drive', 'v3', credentials=creds)\n",
    "\n",
    "def search(service, query):\n",
    "    # search for the file\n",
    "    result = []\n",
    "    page_token = None\n",
    "    while True:\n",
    "        response = service.files().list(q=query,\n",
    "                                        spaces=\"drive\",\n",
    "                                        fields=\"nextPageToken, files(id, name, mimeType)\",\n",
    "                                        pageToken=page_token).execute()\n",
    "        # iterate over filtered files\n",
    "        for file in response.get(\"files\", []):\n",
    "            result.append((file[\"id\"], file[\"name\"], file[\"mimeType\"]))\n",
    "        page_token = response.get('nextPageToken', None)\n",
    "        if not page_token:\n",
    "            # no more files\n",
    "            break\n",
    "    return result  "
   ]
  },
  {
   "cell_type": "code",
   "execution_count": 16,
   "metadata": {},
   "outputs": [
    {
     "ename": "SyntaxError",
     "evalue": "invalid syntax (<ipython-input-16-b58528c63e35>, line 9)",
     "output_type": "error",
     "traceback": [
      "\u001b[1;36m  File \u001b[1;32m\"<ipython-input-16-b58528c63e35>\"\u001b[1;36m, line \u001b[1;32m9\u001b[0m\n\u001b[1;33m    print 'Found file: %s (%s)' % (file.get('name'), file.get('id'))\u001b[0m\n\u001b[1;37m                              ^\u001b[0m\n\u001b[1;31mSyntaxError\u001b[0m\u001b[1;31m:\u001b[0m invalid syntax\n"
     ]
    }
   ],
   "source": []
  },
  {
   "cell_type": "code",
   "execution_count": null,
   "metadata": {},
   "outputs": [],
   "source": []
  }
 ],
 "metadata": {
  "kernelspec": {
   "display_name": "Python 3",
   "language": "python",
   "name": "python3"
  },
  "language_info": {
   "codemirror_mode": {
    "name": "ipython",
    "version": 3
   },
   "file_extension": ".py",
   "mimetype": "text/x-python",
   "name": "python",
   "nbconvert_exporter": "python",
   "pygments_lexer": "ipython3",
   "version": "3.7.7"
  }
 },
 "nbformat": 4,
 "nbformat_minor": 4
}
