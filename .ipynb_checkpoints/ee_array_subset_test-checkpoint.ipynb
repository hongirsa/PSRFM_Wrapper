{
 "cells": [
  {
   "cell_type": "code",
   "execution_count": 1,
   "metadata": {},
   "outputs": [],
   "source": [
    "%config IPCompleter.greedy=True"
   ]
  },
  {
   "cell_type": "code",
   "execution_count": 2,
   "metadata": {},
   "outputs": [],
   "source": [
    "from pprint import pprint\n",
    "import folium\n",
    "import geopy.distance\n",
    "import math\n",
    "import numpy as np"
   ]
  },
  {
   "cell_type": "code",
   "execution_count": 3,
   "metadata": {},
   "outputs": [
    {
     "data": {
      "text/html": [
       "<p>To authorize access needed by Earth Engine, open the following\n",
       "        URL in a web browser and follow the instructions:</p>\n",
       "        <p><a href=https://accounts.google.com/o/oauth2/auth?client_id=517222506229-vsmmajv00ul0bs7p89v5m89qs8eb9359.apps.googleusercontent.com&scope=https%3A%2F%2Fwww.googleapis.com%2Fauth%2Fearthengine+https%3A%2F%2Fwww.googleapis.com%2Fauth%2Fdevstorage.full_control&redirect_uri=urn%3Aietf%3Awg%3Aoauth%3A2.0%3Aoob&response_type=code&code_challenge=lilK9CwsFoHBBQg2AWNRO6mRYpJRP5TEd-czTo8cEpI&code_challenge_method=S256>https://accounts.google.com/o/oauth2/auth?client_id=517222506229-vsmmajv00ul0bs7p89v5m89qs8eb9359.apps.googleusercontent.com&scope=https%3A%2F%2Fwww.googleapis.com%2Fauth%2Fearthengine+https%3A%2F%2Fwww.googleapis.com%2Fauth%2Fdevstorage.full_control&redirect_uri=urn%3Aietf%3Awg%3Aoauth%3A2.0%3Aoob&response_type=code&code_challenge=lilK9CwsFoHBBQg2AWNRO6mRYpJRP5TEd-czTo8cEpI&code_challenge_method=S256</a></p>\n",
       "        <p>The authorization workflow will generate a code, which you\n",
       "        should paste in the box below</p>\n",
       "        "
      ],
      "text/plain": [
       "<IPython.core.display.HTML object>"
      ]
     },
     "metadata": {},
     "output_type": "display_data"
    },
    {
     "name": "stdin",
     "output_type": "stream",
     "text": [
      "Enter verification code:  4/1wGcS2LakZcX59Y01UY6xPWPJGIjD9q1QyqNDnXsnwbkF-B2R1UNzBY\n"
     ]
    },
    {
     "name": "stdout",
     "output_type": "stream",
     "text": [
      "\n",
      "Successfully saved authorization token.\n"
     ]
    }
   ],
   "source": [
    "import ee\n",
    "ee.Authenticate()"
   ]
  },
  {
   "cell_type": "code",
   "execution_count": 4,
   "metadata": {},
   "outputs": [],
   "source": [
    "ee.Initialize()"
   ]
  },
  {
   "cell_type": "code",
   "execution_count": 5,
   "metadata": {},
   "outputs": [],
   "source": [
    "# constants for each satellite\n",
    "ls5 = {\n",
    "    'imagecollection_id' : 'LANDSAT/LT05/C01/T1_SR',\n",
    "    'pixel_size' : 30,\n",
    "    'bands' : ['B1', 'B2', 'B3', 'B4', 'B5', 'B7', 'sr_cloud_qa'],\n",
    "    'time_field' : 'system:time_start'\n",
    "}\n",
    "ls8 = {\n",
    "    'imagecollection_id' : 'LANDSAT/LC08/C01/T1_SR',\n",
    "    'pixel_size' : 30,\n",
    "    'bands' : ['B2', 'B3', 'B4', 'B5', 'B6', 'B7', 'pixel_qa'],\n",
    "    'time_field' : 'system:time_start'\n",
    "}\n",
    "s2 = {\n",
    "    'imagecollection_id' : 'COPERNICUS/S2_SR',\n",
    "    'pixel_size' : 20,\n",
    "    'bands' : ['B2', 'B3', 'B4', 'B8A', 'B11', 'B12', 'MSK_CLDPRB', 'QA60'], #check up msk and qa60 msk is 20m qa60 is 60m\n",
    "    'time_field' : 'system:time_start'\n",
    "}\n",
    "modis = {\n",
    "    'imagecollection_id' : 'MODIS/006/MCD43A4',\n",
    "    'pixel_size' : 500,\n",
    "    'bands' : ['Nadir_Reflectance_Band3', 'Nadir_Reflectance_Band4', 'Nadir_Reflectance_Band1', 'Nadir_Reflectance_Band2', 'Nadir_Reflectance_Band6', 'Nadir_Reflectance_Band7'],\n",
    "    'time_field' : 'system:time_start'\n",
    "}\n",
    "image_sets = {\n",
    "    'ls5' : ls5,\n",
    "    'ls8' : ls8,\n",
    "    's2' : s2,\n",
    "    'modis' : modis\n",
    "}"
   ]
  },
  {
   "cell_type": "code",
   "execution_count": 64,
   "metadata": {},
   "outputs": [],
   "source": [
    "# User inputted data\n",
    "west_long = 133.84410607205484\n",
    "east_long = west_long+(134.7422383962736 - west_long)/5 #temporary just to make a smaller area\n",
    "north_lat = -22.638743081339985\n",
    "south_lat = north_lat - (north_lat - (-23.52560283638598))/5 #temporary just to make a smaller area\n",
    "date_range = ('2014-08-01', '2015-12-31')\n",
    "prediction_dates = ['2014-08-04']\n",
    "satellite_choice = 'ls8'\n",
    "\n",
    "# calculated baseline variables from user data\n",
    "corner_coords = [[east_long, south_lat], [west_long, south_lat], [west_long, north_lat], [east_long, north_lat], [east_long, south_lat]]\n",
    "block_size = math.floor(image_sets['modis']['pixel_size']/image_sets[satellite_choice]['pixel_size'])\n",
    "# minimum tile size is 128, this following formula just accounts for how many pixels we need at minimum to have it as a multiple of block size which is a PSRFM req\n",
    "min_tile_dim_px = block_size*10\n",
    "min_tile_dim_km = (min_tile_dim_px * image_sets[satellite_choice]['pixel_size'])/1000\n",
    "# min_tile_dim_km, east_long, block_size, west_long, east_long, north_lat, south_lat"
   ]
  },
  {
   "cell_type": "code",
   "execution_count": 65,
   "metadata": {},
   "outputs": [],
   "source": [
    "# Creating tiles within the specified coordinates\n",
    "# first calculate the side lengths of the region selected\n",
    "x_dist = geopy.distance.geodesic([south_lat, east_long], [south_lat, west_long]).km\n",
    "y_dist = geopy.distance.geodesic([north_lat, east_long], [south_lat, east_long]).km\n",
    "\n",
    "# determine the number of tile segments to fully cover the region, rounded up to ensure overlap\n",
    "# need to look at this later to ensure that each tile has enough of an overlap to ensure pixels are a multiple of block size (aka cropping)\n",
    "x_tile_segments = math.floor(x_dist/min_tile_dim_km)\n",
    "y_tile_segments = math.floor(y_dist/min_tile_dim_km)\n",
    "\n",
    "# generate a list of ordered coordinates (west to east, north to south) based on the number of tiles\n",
    "# creating an overlap of approx 1 block_size pixels to ensure that each tile after cropping for PSRFM will still retain some overlap\n",
    "km_long = abs(east_long - west_long)/x_dist\n",
    "km_lat = abs(north_lat - south_lat)/y_dist\n",
    "long_overlap = ((block_size * image_sets[satellite_choice]['pixel_size'])/1000) * km_long\n",
    "lat_overlap = ((block_size * image_sets[satellite_choice]['pixel_size'])/1000) * km_lat\n",
    "\n",
    "# determining the coordinate jumps for each tile(sans overlap)\n",
    "x_coord_increment = abs(east_long - west_long)/x_tile_segments + long_overlap\n",
    "y_coord_increment = abs(north_lat - south_lat)/y_tile_segments + lat_overlap\n",
    "\n",
    "# creating the lists\n",
    "west_tile_coords = [east_long - (tile_no + 1) * x_coord_increment for tile_no in reversed(range(x_tile_segments))]\n",
    "east_tile_coords = [west_long + (tile_no + 1) * x_coord_increment for tile_no in range(x_tile_segments)]\n",
    "\n",
    "north_tile_coords = [south_lat + (tile_no + 1) * y_coord_increment for tile_no in reversed(range(y_tile_segments))]\n",
    "south_tile_coords = [north_lat - (tile_no + 1) * y_coord_increment for tile_no in range(y_tile_segments)]\n",
    "\n",
    "# corner_coords = [[east_long, south_lat], [west_long, south_lat], \n",
    "# [west_long, north_lat], [east_long, north_lat], [east_long, south_lat]]\n",
    "tiles = np.empty((x_tile_segments, y_tile_segments), ee.Geometry)\n",
    "for col in range(x_tile_segments):\n",
    "    east_coord = east_tile_coords[col]\n",
    "    west_coord = west_tile_coords[col]\n",
    "    for row in range(y_tile_segments):\n",
    "        north_coord = north_tile_coords[row]\n",
    "        south_coord = south_tile_coords[row]\n",
    "        tile_coords = [[west_coord, south_coord], [east_coord, south_coord], [east_coord, north_coord], [west_coord, north_coord], [west_coord, south_coord]]\n",
    "        tiles[col, row] = (ee.Geometry.Polygon(tile_coords))\n",
    "        \n",
    "# x_dist, y_dist, min_tile_dim_km, x_tile_segments, y_tile_segments, x_coord_increment, y_coord_increment, west_tile_coords, east_tile_coords, north_tile_coords, south_tile_coords, tiles"
   ]
  },
  {
   "cell_type": "code",
   "execution_count": 66,
   "metadata": {},
   "outputs": [],
   "source": [
    "# generating arrays of the fine and coarse res imagecollections\n",
    "fine_res_tiles = np.empty((x_tile_segments, y_tile_segments), ee.ImageCollection)\n",
    "# collection = ee.ImageCollection(image_sets[satellite_choice]['imagecollection_id']).filterBounds(region).filterDate(*date_range).filterMetadata('CLOUD_COVER','less_than', 10).sort(image_sets[satellite_choice]['time_field'])\n",
    "for col in range(x_tile_segments):\n",
    "    for row in range(y_tile_segments):\n",
    "        collection = ee.ImageCollection(image_sets[satellite_choice]['imagecollection_id']).filterBounds(tiles[col, row]).filterDate(*date_range).filterMetadata('CLOUD_COVER','less_than', 10).sort(image_sets[satellite_choice]['time_field'])\n",
    "        fine_res_tiles[col, row] = collection.map(lambda image: image.clip(tiles[col, row]))\n",
    "        \n",
    "coarse_res_tiles = np.empty((x_tile_segments, y_tile_segments), ee.ImageCollection)\n",
    "for col in range(x_tile_segments):\n",
    "    for row in range(y_tile_segments):\n",
    "        collection = ee.ImageCollection(image_sets['modis']['imagecollection_id']).filterBounds(tiles[col, row]).filterDate(*date_range).sort(image_sets['modis']['time_field'])\n",
    "        coarse_res_tiles[col, row] = collection.map(lambda image: image.clip(tiles[col, row]))\n",
    "\n",
    "# fine_res_tiles[0,0].getInfo()"
   ]
  },
  {
   "cell_type": "code",
   "execution_count": 60,
   "metadata": {},
   "outputs": [
    {
     "data": {
      "text/plain": [
       "array([[<ee.image.Image object at 0x0000024DEC07F908>,\n",
       "        <ee.image.Image object at 0x0000024DEC327048>,\n",
       "        <ee.image.Image object at 0x0000024DEC327808>,\n",
       "        <ee.image.Image object at 0x0000024DEC327548>],\n",
       "       [<ee.image.Image object at 0x0000024DEC2F8B88>,\n",
       "        <ee.image.Image object at 0x0000024DEC2F8648>,\n",
       "        <ee.image.Image object at 0x0000024DEC2F8C08>,\n",
       "        <ee.image.Image object at 0x0000024DEC2F8688>],\n",
       "       [<ee.image.Image object at 0x0000024DEC2F8588>,\n",
       "        <ee.image.Image object at 0x0000024DEC2F8288>,\n",
       "        <ee.image.Image object at 0x0000024DEC2F8608>,\n",
       "        <ee.image.Image object at 0x0000024DEC2F8E08>]], dtype=object)"
      ]
     },
     "execution_count": 60,
     "metadata": {},
     "output_type": "execute_result"
    }
   ],
   "source": [
    "test_imgs = np.empty((x_tile_segments, y_tile_segments), ee.Image)\n",
    "for col in range(x_tile_segments):\n",
    "    for row in range(y_tile_segments):\n",
    "        test_imgs[col, row] = ee.Image(fine_res_tiles[col, row].first())\n",
    "\n",
    "test_imgs"
   ]
  },
  {
   "cell_type": "code",
   "execution_count": 61,
   "metadata": {},
   "outputs": [
    {
     "data": {
      "text/plain": [
       "array([[{'mapid': 'projects/earthengine-legacy/maps/471c5cce1a02008e44b0dfffeead1967-8783a2222f68ecb21c30bc07e78b5615', 'token': '', 'tile_fetcher': <ee.data.TileFetcher object at 0x0000024DEC1CAC48>, 'image': <ee.image.Image object at 0x0000024DEC07F908>},\n",
       "        {'mapid': 'projects/earthengine-legacy/maps/73ddabc97aa60d8fe692b0f85b72bbd2-bdaffe82b51b89d0a51ca9f9bb8c846e', 'token': '', 'tile_fetcher': <ee.data.TileFetcher object at 0x0000024DEBDF1588>, 'image': <ee.image.Image object at 0x0000024DEC327048>},\n",
       "        {'mapid': 'projects/earthengine-legacy/maps/e2d4a8c4878252e1865a913c174bfed9-884f7a6d87166bc6131baf804801a9c5', 'token': '', 'tile_fetcher': <ee.data.TileFetcher object at 0x0000024DEC327688>, 'image': <ee.image.Image object at 0x0000024DEC327808>},\n",
       "        {'mapid': 'projects/earthengine-legacy/maps/ec3f7e843c02cc0a3a43615d65f761cb-1f0f2699bd84c05f27878fb0b7df8552', 'token': '', 'tile_fetcher': <ee.data.TileFetcher object at 0x0000024DEC2318C8>, 'image': <ee.image.Image object at 0x0000024DEC327548>}],\n",
       "       [{'mapid': 'projects/earthengine-legacy/maps/fc506d152ea41b20b1f1b2e96ec2ec8f-6f5bdd4c979f2c5ee2f6a19d88ab4fa5', 'token': '', 'tile_fetcher': <ee.data.TileFetcher object at 0x0000024DEC07F648>, 'image': <ee.image.Image object at 0x0000024DEC2F8B88>},\n",
       "        {'mapid': 'projects/earthengine-legacy/maps/1c9bf26f413213d5983cf1c957fcdf4d-9d5e2d983fade8b5b5b164b991897fc8', 'token': '', 'tile_fetcher': <ee.data.TileFetcher object at 0x0000024DEC1D1308>, 'image': <ee.image.Image object at 0x0000024DEC2F8648>},\n",
       "        {'mapid': 'projects/earthengine-legacy/maps/5d841f4f159a35850efe65148784a696-86a2fd65e6c1d73b404ce78d53925ab1', 'token': '', 'tile_fetcher': <ee.data.TileFetcher object at 0x0000024DEC4712C8>, 'image': <ee.image.Image object at 0x0000024DEC2F8C08>},\n",
       "        {'mapid': 'projects/earthengine-legacy/maps/ac302477954f089041ad22322ce87874-024f9df5f016265df0289a5c625e318c', 'token': '', 'tile_fetcher': <ee.data.TileFetcher object at 0x0000024DEC45ABC8>, 'image': <ee.image.Image object at 0x0000024DEC2F8688>}],\n",
       "       [{'mapid': 'projects/earthengine-legacy/maps/019f922fd96f053b83e7b4e9d4cc09c6-2b89429e6d9f39e6e665abafae9ba111', 'token': '', 'tile_fetcher': <ee.data.TileFetcher object at 0x0000024DEC21AF48>, 'image': <ee.image.Image object at 0x0000024DEC2F8588>},\n",
       "        {'mapid': 'projects/earthengine-legacy/maps/f575ee69000925afe3a021c03cb750d5-4d259d92c97f273ab6e809f3ea715a85', 'token': '', 'tile_fetcher': <ee.data.TileFetcher object at 0x0000024DEC330348>, 'image': <ee.image.Image object at 0x0000024DEC2F8288>},\n",
       "        {'mapid': 'projects/earthengine-legacy/maps/2553845ec95ea7a836cbddb23c844f3a-06654de33fd98974011d769701d9c902', 'token': '', 'tile_fetcher': <ee.data.TileFetcher object at 0x0000024DEBCD6D88>, 'image': <ee.image.Image object at 0x0000024DEC2F8608>},\n",
       "        {'mapid': 'projects/earthengine-legacy/maps/e90aabd138c5628e51fe108c0eed8da4-e5673eac8119d58f226935f97531f81d', 'token': '', 'tile_fetcher': <ee.data.TileFetcher object at 0x0000024DEC236E48>, 'image': <ee.image.Image object at 0x0000024DEC2F8E08>}]],\n",
       "      dtype=object)"
      ]
     },
     "execution_count": 61,
     "metadata": {},
     "output_type": "execute_result"
    }
   ],
   "source": [
    "mapIdDicts = np.empty((x_tile_segments, y_tile_segments), dict)\n",
    "for col in range(x_tile_segments):\n",
    "    for row in range(y_tile_segments):\n",
    "        mapIdDicts[col, row] = (test_imgs[col, row]).getMapId({'bands': ['B4', 'B3', 'B2'], 'min': 93, 'max': 1801})\n",
    "mapIdDicts"
   ]
  },
  {
   "cell_type": "code",
   "execution_count": 62,
   "metadata": {},
   "outputs": [
    {
     "data": {
      "text/html": [
       "<div style=\"width:100%;\"><div style=\"position:relative;width:100%;height:0;padding-bottom:60%;\"><span style=\"color:#565656\">Make this Notebook Trusted to load map: File -> Trust Notebook</span><iframe src=\"about:blank\" style=\"position:absolute;width:100%;height:100%;left:0;top:0;border:none !important;\" data-html=PCFET0NUWVBFIGh0bWw+CjxoZWFkPiAgICAKICAgIDxtZXRhIGh0dHAtZXF1aXY9ImNvbnRlbnQtdHlwZSIgY29udGVudD0idGV4dC9odG1sOyBjaGFyc2V0PVVURi04IiAvPgogICAgCiAgICAgICAgPHNjcmlwdD4KICAgICAgICAgICAgTF9OT19UT1VDSCA9IGZhbHNlOwogICAgICAgICAgICBMX0RJU0FCTEVfM0QgPSBmYWxzZTsKICAgICAgICA8L3NjcmlwdD4KICAgIAogICAgPHNjcmlwdCBzcmM9Imh0dHBzOi8vY2RuLmpzZGVsaXZyLm5ldC9ucG0vbGVhZmxldEAxLjYuMC9kaXN0L2xlYWZsZXQuanMiPjwvc2NyaXB0PgogICAgPHNjcmlwdCBzcmM9Imh0dHBzOi8vY29kZS5qcXVlcnkuY29tL2pxdWVyeS0xLjEyLjQubWluLmpzIj48L3NjcmlwdD4KICAgIDxzY3JpcHQgc3JjPSJodHRwczovL21heGNkbi5ib290c3RyYXBjZG4uY29tL2Jvb3RzdHJhcC8zLjIuMC9qcy9ib290c3RyYXAubWluLmpzIj48L3NjcmlwdD4KICAgIDxzY3JpcHQgc3JjPSJodHRwczovL2NkbmpzLmNsb3VkZmxhcmUuY29tL2FqYXgvbGlicy9MZWFmbGV0LmF3ZXNvbWUtbWFya2Vycy8yLjAuMi9sZWFmbGV0LmF3ZXNvbWUtbWFya2Vycy5qcyI+PC9zY3JpcHQ+CiAgICA8bGluayByZWw9InN0eWxlc2hlZXQiIGhyZWY9Imh0dHBzOi8vY2RuLmpzZGVsaXZyLm5ldC9ucG0vbGVhZmxldEAxLjYuMC9kaXN0L2xlYWZsZXQuY3NzIi8+CiAgICA8bGluayByZWw9InN0eWxlc2hlZXQiIGhyZWY9Imh0dHBzOi8vbWF4Y2RuLmJvb3RzdHJhcGNkbi5jb20vYm9vdHN0cmFwLzMuMi4wL2Nzcy9ib290c3RyYXAubWluLmNzcyIvPgogICAgPGxpbmsgcmVsPSJzdHlsZXNoZWV0IiBocmVmPSJodHRwczovL21heGNkbi5ib290c3RyYXBjZG4uY29tL2Jvb3RzdHJhcC8zLjIuMC9jc3MvYm9vdHN0cmFwLXRoZW1lLm1pbi5jc3MiLz4KICAgIDxsaW5rIHJlbD0ic3R5bGVzaGVldCIgaHJlZj0iaHR0cHM6Ly9tYXhjZG4uYm9vdHN0cmFwY2RuLmNvbS9mb250LWF3ZXNvbWUvNC42LjMvY3NzL2ZvbnQtYXdlc29tZS5taW4uY3NzIi8+CiAgICA8bGluayByZWw9InN0eWxlc2hlZXQiIGhyZWY9Imh0dHBzOi8vY2RuanMuY2xvdWRmbGFyZS5jb20vYWpheC9saWJzL0xlYWZsZXQuYXdlc29tZS1tYXJrZXJzLzIuMC4yL2xlYWZsZXQuYXdlc29tZS1tYXJrZXJzLmNzcyIvPgogICAgPGxpbmsgcmVsPSJzdHlsZXNoZWV0IiBocmVmPSJodHRwczovL3Jhd2Nkbi5naXRoYWNrLmNvbS9weXRob24tdmlzdWFsaXphdGlvbi9mb2xpdW0vbWFzdGVyL2ZvbGl1bS90ZW1wbGF0ZXMvbGVhZmxldC5hd2Vzb21lLnJvdGF0ZS5jc3MiLz4KICAgIDxzdHlsZT5odG1sLCBib2R5IHt3aWR0aDogMTAwJTtoZWlnaHQ6IDEwMCU7bWFyZ2luOiAwO3BhZGRpbmc6IDA7fTwvc3R5bGU+CiAgICA8c3R5bGU+I21hcCB7cG9zaXRpb246YWJzb2x1dGU7dG9wOjA7Ym90dG9tOjA7cmlnaHQ6MDtsZWZ0OjA7fTwvc3R5bGU+CiAgICAKICAgICAgICAgICAgPG1ldGEgbmFtZT0idmlld3BvcnQiIGNvbnRlbnQ9IndpZHRoPWRldmljZS13aWR0aCwKICAgICAgICAgICAgICAgIGluaXRpYWwtc2NhbGU9MS4wLCBtYXhpbXVtLXNjYWxlPTEuMCwgdXNlci1zY2FsYWJsZT1ubyIgLz4KICAgICAgICAgICAgPHN0eWxlPgogICAgICAgICAgICAgICAgI21hcF9mMjg5YjJlOTM4ODg0ZDBlODNhZGNkMzE0OTQzOTdhNSB7CiAgICAgICAgICAgICAgICAgICAgcG9zaXRpb246IHJlbGF0aXZlOwogICAgICAgICAgICAgICAgICAgIHdpZHRoOiAxMDAuMCU7CiAgICAgICAgICAgICAgICAgICAgaGVpZ2h0OiAxMDAuMCU7CiAgICAgICAgICAgICAgICAgICAgbGVmdDogMC4wJTsKICAgICAgICAgICAgICAgICAgICB0b3A6IDAuMCU7CiAgICAgICAgICAgICAgICB9CiAgICAgICAgICAgIDwvc3R5bGU+CiAgICAgICAgCjwvaGVhZD4KPGJvZHk+ICAgIAogICAgCiAgICAgICAgICAgIDxkaXYgY2xhc3M9ImZvbGl1bS1tYXAiIGlkPSJtYXBfZjI4OWIyZTkzODg4NGQwZTgzYWRjZDMxNDk0Mzk3YTUiID48L2Rpdj4KICAgICAgICAKPC9ib2R5Pgo8c2NyaXB0PiAgICAKICAgIAogICAgICAgICAgICB2YXIgbWFwX2YyODliMmU5Mzg4ODRkMGU4M2FkY2QzMTQ5NDM5N2E1ID0gTC5tYXAoCiAgICAgICAgICAgICAgICAibWFwX2YyODliMmU5Mzg4ODRkMGU4M2FkY2QzMTQ5NDM5N2E1IiwKICAgICAgICAgICAgICAgIHsKICAgICAgICAgICAgICAgICAgICBjZW50ZXI6IFsxMzMuOTMzOTE5MzA0NDc2NzIsIC0yMi45MDQ4MDEwMDc4NTM3ODRdLAogICAgICAgICAgICAgICAgICAgIGNyczogTC5DUlMuRVBTRzM4NTcsCiAgICAgICAgICAgICAgICAgICAgem9vbTogMTAsCiAgICAgICAgICAgICAgICAgICAgem9vbUNvbnRyb2w6IHRydWUsCiAgICAgICAgICAgICAgICAgICAgcHJlZmVyQ2FudmFzOiBmYWxzZSwKICAgICAgICAgICAgICAgIH0KICAgICAgICAgICAgKTsKCiAgICAgICAgICAgIAoKICAgICAgICAKICAgIAogICAgICAgICAgICB2YXIgdGlsZV9sYXllcl80OGNjZjZlMDRjYWY0MTAxOWNkOWVjOTdmODlhMTIwYyA9IEwudGlsZUxheWVyKAogICAgICAgICAgICAgICAgImh0dHBzOi8ve3N9LnRpbGUub3BlbnN0cmVldG1hcC5vcmcve3p9L3t4fS97eX0ucG5nIiwKICAgICAgICAgICAgICAgIHsiYXR0cmlidXRpb24iOiAiRGF0YSBieSBcdTAwMjZjb3B5OyBcdTAwM2NhIGhyZWY9XCJodHRwOi8vb3BlbnN0cmVldG1hcC5vcmdcIlx1MDAzZU9wZW5TdHJlZXRNYXBcdTAwM2MvYVx1MDAzZSwgdW5kZXIgXHUwMDNjYSBocmVmPVwiaHR0cDovL3d3dy5vcGVuc3RyZWV0bWFwLm9yZy9jb3B5cmlnaHRcIlx1MDAzZU9EYkxcdTAwM2MvYVx1MDAzZS4iLCAiZGV0ZWN0UmV0aW5hIjogZmFsc2UsICJtYXhOYXRpdmVab29tIjogMTgsICJtYXhab29tIjogMTgsICJtaW5ab29tIjogMCwgIm5vV3JhcCI6IGZhbHNlLCAib3BhY2l0eSI6IDEsICJzdWJkb21haW5zIjogImFiYyIsICJ0bXMiOiBmYWxzZX0KICAgICAgICAgICAgKS5hZGRUbyhtYXBfZjI4OWIyZTkzODg4NGQwZTgzYWRjZDMxNDk0Mzk3YTUpOwogICAgICAgIAogICAgCiAgICAgICAgICAgIHZhciB0aWxlX2xheWVyXzVkYWU0MWQ3NjVmYzQwODNiNTA1NzVmYTcxODI4NzEwID0gTC50aWxlTGF5ZXIoCiAgICAgICAgICAgICAgICAiaHR0cHM6Ly9lYXJ0aGVuZ2luZS5nb29nbGVhcGlzLmNvbS92MWFscGhhL3Byb2plY3RzL2VhcnRoZW5naW5lLWxlZ2FjeS9tYXBzLzQ3MWM1Y2NlMWEwMjAwOGU0NGIwZGZmZmVlYWQxOTY3LTg3ODNhMjIyMmY2OGVjYjIxYzMwYmMwN2U3OGI1NjE1L3RpbGVzL3t6fS97eH0ve3l9IiwKICAgICAgICAgICAgICAgIHsiYXR0cmlidXRpb24iOiAiTWFwIERhdGEgXHUwMDI2Y29weTsgXHUwMDNjYSBocmVmPWh0dHBzOi8vZWFydGhlbmdpbmUuZ29vZ2xlLmNvbS9cdTAwM2VHb29nbGUgRWFydGggRW5naW5lXHUwMDNjL2FcdTAwM2UiLCAiZGV0ZWN0UmV0aW5hIjogZmFsc2UsICJtYXhOYXRpdmVab29tIjogMTgsICJtYXhab29tIjogMTgsICJtaW5ab29tIjogMCwgIm5vV3JhcCI6IGZhbHNlLCAib3BhY2l0eSI6IDEsICJzdWJkb21haW5zIjogImFiYyIsICJ0bXMiOiBmYWxzZX0KICAgICAgICAgICAgKS5hZGRUbyhtYXBfZjI4OWIyZTkzODg4NGQwZTgzYWRjZDMxNDk0Mzk3YTUpOwogICAgICAgIAogICAgCiAgICAgICAgICAgIHZhciB0aWxlX2xheWVyXzRlYWUwYTAwMTg0ZjQ3ZTVhNTg0MDk0OWNiM2EzNmMxID0gTC50aWxlTGF5ZXIoCiAgICAgICAgICAgICAgICAiaHR0cHM6Ly9lYXJ0aGVuZ2luZS5nb29nbGVhcGlzLmNvbS92MWFscGhhL3Byb2plY3RzL2VhcnRoZW5naW5lLWxlZ2FjeS9tYXBzLzczZGRhYmM5N2FhNjBkOGZlNjkyYjBmODViNzJiYmQyLWJkYWZmZTgyYjUxYjg5ZDBhNTFjYTlmOWJiOGM4NDZlL3RpbGVzL3t6fS97eH0ve3l9IiwKICAgICAgICAgICAgICAgIHsiYXR0cmlidXRpb24iOiAiTWFwIERhdGEgXHUwMDI2Y29weTsgXHUwMDNjYSBocmVmPWh0dHBzOi8vZWFydGhlbmdpbmUuZ29vZ2xlLmNvbS9cdTAwM2VHb29nbGUgRWFydGggRW5naW5lXHUwMDNjL2FcdTAwM2UiLCAiZGV0ZWN0UmV0aW5hIjogZmFsc2UsICJtYXhOYXRpdmVab29tIjogMTgsICJtYXhab29tIjogMTgsICJtaW5ab29tIjogMCwgIm5vV3JhcCI6IGZhbHNlLCAib3BhY2l0eSI6IDEsICJzdWJkb21haW5zIjogImFiYyIsICJ0bXMiOiBmYWxzZX0KICAgICAgICAgICAgKS5hZGRUbyhtYXBfZjI4OWIyZTkzODg4NGQwZTgzYWRjZDMxNDk0Mzk3YTUpOwogICAgICAgIAogICAgCiAgICAgICAgICAgIHZhciB0aWxlX2xheWVyXzc3MDU0NDA5NmU4NzQ5ODk5ZTg1M2RhZTUyN2FkMDQxID0gTC50aWxlTGF5ZXIoCiAgICAgICAgICAgICAgICAiaHR0cHM6Ly9lYXJ0aGVuZ2luZS5nb29nbGVhcGlzLmNvbS92MWFscGhhL3Byb2plY3RzL2VhcnRoZW5naW5lLWxlZ2FjeS9tYXBzL2UyZDRhOGM0ODc4MjUyZTE4NjVhOTEzYzE3NGJmZWQ5LTg4NGY3YTZkODcxNjZiYzYxMzFiYWY4MDQ4MDFhOWM1L3RpbGVzL3t6fS97eH0ve3l9IiwKICAgICAgICAgICAgICAgIHsiYXR0cmlidXRpb24iOiAiTWFwIERhdGEgXHUwMDI2Y29weTsgXHUwMDNjYSBocmVmPWh0dHBzOi8vZWFydGhlbmdpbmUuZ29vZ2xlLmNvbS9cdTAwM2VHb29nbGUgRWFydGggRW5naW5lXHUwMDNjL2FcdTAwM2UiLCAiZGV0ZWN0UmV0aW5hIjogZmFsc2UsICJtYXhOYXRpdmVab29tIjogMTgsICJtYXhab29tIjogMTgsICJtaW5ab29tIjogMCwgIm5vV3JhcCI6IGZhbHNlLCAib3BhY2l0eSI6IDEsICJzdWJkb21haW5zIjogImFiYyIsICJ0bXMiOiBmYWxzZX0KICAgICAgICAgICAgKS5hZGRUbyhtYXBfZjI4OWIyZTkzODg4NGQwZTgzYWRjZDMxNDk0Mzk3YTUpOwogICAgICAgIAogICAgCiAgICAgICAgICAgIHZhciB0aWxlX2xheWVyXzUzZWZjYTMzNDJkZTRmMThhNjk2MTE5NDlmZGRlNzY3ID0gTC50aWxlTGF5ZXIoCiAgICAgICAgICAgICAgICAiaHR0cHM6Ly9lYXJ0aGVuZ2luZS5nb29nbGVhcGlzLmNvbS92MWFscGhhL3Byb2plY3RzL2VhcnRoZW5naW5lLWxlZ2FjeS9tYXBzL2VjM2Y3ZTg0M2MwMmNjMGEzYTQzNjE1ZDY1Zjc2MWNiLTFmMGYyNjk5YmQ4NGMwNWYyNzg3OGZiMGI3ZGY4NTUyL3RpbGVzL3t6fS97eH0ve3l9IiwKICAgICAgICAgICAgICAgIHsiYXR0cmlidXRpb24iOiAiTWFwIERhdGEgXHUwMDI2Y29weTsgXHUwMDNjYSBocmVmPWh0dHBzOi8vZWFydGhlbmdpbmUuZ29vZ2xlLmNvbS9cdTAwM2VHb29nbGUgRWFydGggRW5naW5lXHUwMDNjL2FcdTAwM2UiLCAiZGV0ZWN0UmV0aW5hIjogZmFsc2UsICJtYXhOYXRpdmVab29tIjogMTgsICJtYXhab29tIjogMTgsICJtaW5ab29tIjogMCwgIm5vV3JhcCI6IGZhbHNlLCAib3BhY2l0eSI6IDEsICJzdWJkb21haW5zIjogImFiYyIsICJ0bXMiOiBmYWxzZX0KICAgICAgICAgICAgKS5hZGRUbyhtYXBfZjI4OWIyZTkzODg4NGQwZTgzYWRjZDMxNDk0Mzk3YTUpOwogICAgICAgIAogICAgCiAgICAgICAgICAgIHZhciB0aWxlX2xheWVyX2VhOTQ3MDhiODcyNjQzZWQ4ZDM4Y2M4YTZkMjc2MjdhID0gTC50aWxlTGF5ZXIoCiAgICAgICAgICAgICAgICAiaHR0cHM6Ly9lYXJ0aGVuZ2luZS5nb29nbGVhcGlzLmNvbS92MWFscGhhL3Byb2plY3RzL2VhcnRoZW5naW5lLWxlZ2FjeS9tYXBzL2ZjNTA2ZDE1MmVhNDFiMjBiMWYxYjJlOTZlYzJlYzhmLTZmNWJkZDRjOTc5ZjJjNWVlMmY2YTE5ZDg4YWI0ZmE1L3RpbGVzL3t6fS97eH0ve3l9IiwKICAgICAgICAgICAgICAgIHsiYXR0cmlidXRpb24iOiAiTWFwIERhdGEgXHUwMDI2Y29weTsgXHUwMDNjYSBocmVmPWh0dHBzOi8vZWFydGhlbmdpbmUuZ29vZ2xlLmNvbS9cdTAwM2VHb29nbGUgRWFydGggRW5naW5lXHUwMDNjL2FcdTAwM2UiLCAiZGV0ZWN0UmV0aW5hIjogZmFsc2UsICJtYXhOYXRpdmVab29tIjogMTgsICJtYXhab29tIjogMTgsICJtaW5ab29tIjogMCwgIm5vV3JhcCI6IGZhbHNlLCAib3BhY2l0eSI6IDEsICJzdWJkb21haW5zIjogImFiYyIsICJ0bXMiOiBmYWxzZX0KICAgICAgICAgICAgKS5hZGRUbyhtYXBfZjI4OWIyZTkzODg4NGQwZTgzYWRjZDMxNDk0Mzk3YTUpOwogICAgICAgIAogICAgCiAgICAgICAgICAgIHZhciB0aWxlX2xheWVyXzJjZmFkZmMzYjU2NTQ2ZDY5OGJmNDlkNTAzODVkN2YzID0gTC50aWxlTGF5ZXIoCiAgICAgICAgICAgICAgICAiaHR0cHM6Ly9lYXJ0aGVuZ2luZS5nb29nbGVhcGlzLmNvbS92MWFscGhhL3Byb2plY3RzL2VhcnRoZW5naW5lLWxlZ2FjeS9tYXBzLzFjOWJmMjZmNDEzMjEzZDU5ODNjZjFjOTU3ZmNkZjRkLTlkNWUyZDk4M2ZhZGU4YjViNWIxNjRiOTkxODk3ZmM4L3RpbGVzL3t6fS97eH0ve3l9IiwKICAgICAgICAgICAgICAgIHsiYXR0cmlidXRpb24iOiAiTWFwIERhdGEgXHUwMDI2Y29weTsgXHUwMDNjYSBocmVmPWh0dHBzOi8vZWFydGhlbmdpbmUuZ29vZ2xlLmNvbS9cdTAwM2VHb29nbGUgRWFydGggRW5naW5lXHUwMDNjL2FcdTAwM2UiLCAiZGV0ZWN0UmV0aW5hIjogZmFsc2UsICJtYXhOYXRpdmVab29tIjogMTgsICJtYXhab29tIjogMTgsICJtaW5ab29tIjogMCwgIm5vV3JhcCI6IGZhbHNlLCAib3BhY2l0eSI6IDEsICJzdWJkb21haW5zIjogImFiYyIsICJ0bXMiOiBmYWxzZX0KICAgICAgICAgICAgKS5hZGRUbyhtYXBfZjI4OWIyZTkzODg4NGQwZTgzYWRjZDMxNDk0Mzk3YTUpOwogICAgICAgIAogICAgCiAgICAgICAgICAgIHZhciB0aWxlX2xheWVyXzgwZTJmZGNjM2Q2ZjRhNTBhMmY0ZDY2MDU0NThmYWU2ID0gTC50aWxlTGF5ZXIoCiAgICAgICAgICAgICAgICAiaHR0cHM6Ly9lYXJ0aGVuZ2luZS5nb29nbGVhcGlzLmNvbS92MWFscGhhL3Byb2plY3RzL2VhcnRoZW5naW5lLWxlZ2FjeS9tYXBzLzVkODQxZjRmMTU5YTM1ODUwZWZlNjUxNDg3ODRhNjk2LTg2YTJmZDY1ZTZjMWQ3M2I0MDRjZTc4ZDUzOTI1YWIxL3RpbGVzL3t6fS97eH0ve3l9IiwKICAgICAgICAgICAgICAgIHsiYXR0cmlidXRpb24iOiAiTWFwIERhdGEgXHUwMDI2Y29weTsgXHUwMDNjYSBocmVmPWh0dHBzOi8vZWFydGhlbmdpbmUuZ29vZ2xlLmNvbS9cdTAwM2VHb29nbGUgRWFydGggRW5naW5lXHUwMDNjL2FcdTAwM2UiLCAiZGV0ZWN0UmV0aW5hIjogZmFsc2UsICJtYXhOYXRpdmVab29tIjogMTgsICJtYXhab29tIjogMTgsICJtaW5ab29tIjogMCwgIm5vV3JhcCI6IGZhbHNlLCAib3BhY2l0eSI6IDEsICJzdWJkb21haW5zIjogImFiYyIsICJ0bXMiOiBmYWxzZX0KICAgICAgICAgICAgKS5hZGRUbyhtYXBfZjI4OWIyZTkzODg4NGQwZTgzYWRjZDMxNDk0Mzk3YTUpOwogICAgICAgIAogICAgCiAgICAgICAgICAgIHZhciB0aWxlX2xheWVyXzI2YTRmZWRlNzYxZjQ3OWY5ODI3MzFmZWE1YjQ1MTdlID0gTC50aWxlTGF5ZXIoCiAgICAgICAgICAgICAgICAiaHR0cHM6Ly9lYXJ0aGVuZ2luZS5nb29nbGVhcGlzLmNvbS92MWFscGhhL3Byb2plY3RzL2VhcnRoZW5naW5lLWxlZ2FjeS9tYXBzL2FjMzAyNDc3OTU0ZjA4OTA0MWFkMjIzMjJjZTg3ODc0LTAyNGY5ZGY1ZjAxNjI2NWRmMDI4OWE1YzYyNWUzMThjL3RpbGVzL3t6fS97eH0ve3l9IiwKICAgICAgICAgICAgICAgIHsiYXR0cmlidXRpb24iOiAiTWFwIERhdGEgXHUwMDI2Y29weTsgXHUwMDNjYSBocmVmPWh0dHBzOi8vZWFydGhlbmdpbmUuZ29vZ2xlLmNvbS9cdTAwM2VHb29nbGUgRWFydGggRW5naW5lXHUwMDNjL2FcdTAwM2UiLCAiZGV0ZWN0UmV0aW5hIjogZmFsc2UsICJtYXhOYXRpdmVab29tIjogMTgsICJtYXhab29tIjogMTgsICJtaW5ab29tIjogMCwgIm5vV3JhcCI6IGZhbHNlLCAib3BhY2l0eSI6IDEsICJzdWJkb21haW5zIjogImFiYyIsICJ0bXMiOiBmYWxzZX0KICAgICAgICAgICAgKS5hZGRUbyhtYXBfZjI4OWIyZTkzODg4NGQwZTgzYWRjZDMxNDk0Mzk3YTUpOwogICAgICAgIAogICAgCiAgICAgICAgICAgIHZhciB0aWxlX2xheWVyX2EwNDYwMTQxZGM4MTQxYTc5Zjk2Y2MzYmFhOTEwOGM5ID0gTC50aWxlTGF5ZXIoCiAgICAgICAgICAgICAgICAiaHR0cHM6Ly9lYXJ0aGVuZ2luZS5nb29nbGVhcGlzLmNvbS92MWFscGhhL3Byb2plY3RzL2VhcnRoZW5naW5lLWxlZ2FjeS9tYXBzLzAxOWY5MjJmZDk2ZjA1M2I4M2U3YjRlOWQ0Y2MwOWM2LTJiODk0MjllNmQ5ZjM5ZTZlNjY1YWJhZmFlOWJhMTExL3RpbGVzL3t6fS97eH0ve3l9IiwKICAgICAgICAgICAgICAgIHsiYXR0cmlidXRpb24iOiAiTWFwIERhdGEgXHUwMDI2Y29weTsgXHUwMDNjYSBocmVmPWh0dHBzOi8vZWFydGhlbmdpbmUuZ29vZ2xlLmNvbS9cdTAwM2VHb29nbGUgRWFydGggRW5naW5lXHUwMDNjL2FcdTAwM2UiLCAiZGV0ZWN0UmV0aW5hIjogZmFsc2UsICJtYXhOYXRpdmVab29tIjogMTgsICJtYXhab29tIjogMTgsICJtaW5ab29tIjogMCwgIm5vV3JhcCI6IGZhbHNlLCAib3BhY2l0eSI6IDEsICJzdWJkb21haW5zIjogImFiYyIsICJ0bXMiOiBmYWxzZX0KICAgICAgICAgICAgKS5hZGRUbyhtYXBfZjI4OWIyZTkzODg4NGQwZTgzYWRjZDMxNDk0Mzk3YTUpOwogICAgICAgIAogICAgCiAgICAgICAgICAgIHZhciB0aWxlX2xheWVyXzM3MDY3M2ZmNzZhZDRjNmI5MDRmOWZkMTk4ZmI2ODViID0gTC50aWxlTGF5ZXIoCiAgICAgICAgICAgICAgICAiaHR0cHM6Ly9lYXJ0aGVuZ2luZS5nb29nbGVhcGlzLmNvbS92MWFscGhhL3Byb2plY3RzL2VhcnRoZW5naW5lLWxlZ2FjeS9tYXBzL2Y1NzVlZTY5MDAwOTI1YWZlM2EwMjFjMDNjYjc1MGQ1LTRkMjU5ZDkyYzk3ZjI3M2FiNmU4MDlmM2VhNzE1YTg1L3RpbGVzL3t6fS97eH0ve3l9IiwKICAgICAgICAgICAgICAgIHsiYXR0cmlidXRpb24iOiAiTWFwIERhdGEgXHUwMDI2Y29weTsgXHUwMDNjYSBocmVmPWh0dHBzOi8vZWFydGhlbmdpbmUuZ29vZ2xlLmNvbS9cdTAwM2VHb29nbGUgRWFydGggRW5naW5lXHUwMDNjL2FcdTAwM2UiLCAiZGV0ZWN0UmV0aW5hIjogZmFsc2UsICJtYXhOYXRpdmVab29tIjogMTgsICJtYXhab29tIjogMTgsICJtaW5ab29tIjogMCwgIm5vV3JhcCI6IGZhbHNlLCAib3BhY2l0eSI6IDEsICJzdWJkb21haW5zIjogImFiYyIsICJ0bXMiOiBmYWxzZX0KICAgICAgICAgICAgKS5hZGRUbyhtYXBfZjI4OWIyZTkzODg4NGQwZTgzYWRjZDMxNDk0Mzk3YTUpOwogICAgICAgIAogICAgCiAgICAgICAgICAgIHZhciB0aWxlX2xheWVyXzJjMWI0ZTllODliMzRiNDhiODM3ZTcxZGUxZGIzMGJmID0gTC50aWxlTGF5ZXIoCiAgICAgICAgICAgICAgICAiaHR0cHM6Ly9lYXJ0aGVuZ2luZS5nb29nbGVhcGlzLmNvbS92MWFscGhhL3Byb2plY3RzL2VhcnRoZW5naW5lLWxlZ2FjeS9tYXBzLzI1NTM4NDVlYzk1ZWE3YTgzNmNiZGRiMjNjODQ0ZjNhLTA2NjU0ZGUzM2ZkOTg5NzQwMTFkNzY5NzAxZDljOTAyL3RpbGVzL3t6fS97eH0ve3l9IiwKICAgICAgICAgICAgICAgIHsiYXR0cmlidXRpb24iOiAiTWFwIERhdGEgXHUwMDI2Y29weTsgXHUwMDNjYSBocmVmPWh0dHBzOi8vZWFydGhlbmdpbmUuZ29vZ2xlLmNvbS9cdTAwM2VHb29nbGUgRWFydGggRW5naW5lXHUwMDNjL2FcdTAwM2UiLCAiZGV0ZWN0UmV0aW5hIjogZmFsc2UsICJtYXhOYXRpdmVab29tIjogMTgsICJtYXhab29tIjogMTgsICJtaW5ab29tIjogMCwgIm5vV3JhcCI6IGZhbHNlLCAib3BhY2l0eSI6IDEsICJzdWJkb21haW5zIjogImFiYyIsICJ0bXMiOiBmYWxzZX0KICAgICAgICAgICAgKS5hZGRUbyhtYXBfZjI4OWIyZTkzODg4NGQwZTgzYWRjZDMxNDk0Mzk3YTUpOwogICAgICAgIAogICAgCiAgICAgICAgICAgIHZhciB0aWxlX2xheWVyXzUyNjY5YzdkOWVlZTQzMDQ4ZGU5M2E3YzRjYzRhMWQyID0gTC50aWxlTGF5ZXIoCiAgICAgICAgICAgICAgICAiaHR0cHM6Ly9lYXJ0aGVuZ2luZS5nb29nbGVhcGlzLmNvbS92MWFscGhhL3Byb2plY3RzL2VhcnRoZW5naW5lLWxlZ2FjeS9tYXBzL2U5MGFhYmQxMzhjNTYyOGU1MWZlMTA4YzBlZWQ4ZGE0LWU1NjczZWFjODExOWQ1OGYyMjY5MzVmOTc1MzFmODFkL3RpbGVzL3t6fS97eH0ve3l9IiwKICAgICAgICAgICAgICAgIHsiYXR0cmlidXRpb24iOiAiTWFwIERhdGEgXHUwMDI2Y29weTsgXHUwMDNjYSBocmVmPWh0dHBzOi8vZWFydGhlbmdpbmUuZ29vZ2xlLmNvbS9cdTAwM2VHb29nbGUgRWFydGggRW5naW5lXHUwMDNjL2FcdTAwM2UiLCAiZGV0ZWN0UmV0aW5hIjogZmFsc2UsICJtYXhOYXRpdmVab29tIjogMTgsICJtYXhab29tIjogMTgsICJtaW5ab29tIjogMCwgIm5vV3JhcCI6IGZhbHNlLCAib3BhY2l0eSI6IDEsICJzdWJkb21haW5zIjogImFiYyIsICJ0bXMiOiBmYWxzZX0KICAgICAgICAgICAgKS5hZGRUbyhtYXBfZjI4OWIyZTkzODg4NGQwZTgzYWRjZDMxNDk0Mzk3YTUpOwogICAgICAgIAogICAgCiAgICAgICAgICAgIHZhciBsYXllcl9jb250cm9sXzY1YzA2NDczNWRjMjRhYTU4ODQzMzZkOTAyZGFiMjJkID0gewogICAgICAgICAgICAgICAgYmFzZV9sYXllcnMgOiB7CiAgICAgICAgICAgICAgICAgICAgIm9wZW5zdHJlZXRtYXAiIDogdGlsZV9sYXllcl80OGNjZjZlMDRjYWY0MTAxOWNkOWVjOTdmODlhMTIwYywKICAgICAgICAgICAgICAgIH0sCiAgICAgICAgICAgICAgICBvdmVybGF5cyA6ICB7CiAgICAgICAgICAgICAgICAgICAgImltZzAsIDAiIDogdGlsZV9sYXllcl81ZGFlNDFkNzY1ZmM0MDgzYjUwNTc1ZmE3MTgyODcxMCwKICAgICAgICAgICAgICAgICAgICAiaW1nMCwgMSIgOiB0aWxlX2xheWVyXzRlYWUwYTAwMTg0ZjQ3ZTVhNTg0MDk0OWNiM2EzNmMxLAogICAgICAgICAgICAgICAgICAgICJpbWcwLCAyIiA6IHRpbGVfbGF5ZXJfNzcwNTQ0MDk2ZTg3NDk4OTllODUzZGFlNTI3YWQwNDEsCiAgICAgICAgICAgICAgICAgICAgImltZzAsIDMiIDogdGlsZV9sYXllcl81M2VmY2EzMzQyZGU0ZjE4YTY5NjExOTQ5ZmRkZTc2NywKICAgICAgICAgICAgICAgICAgICAiaW1nMSwgMCIgOiB0aWxlX2xheWVyX2VhOTQ3MDhiODcyNjQzZWQ4ZDM4Y2M4YTZkMjc2MjdhLAogICAgICAgICAgICAgICAgICAgICJpbWcxLCAxIiA6IHRpbGVfbGF5ZXJfMmNmYWRmYzNiNTY1NDZkNjk4YmY0OWQ1MDM4NWQ3ZjMsCiAgICAgICAgICAgICAgICAgICAgImltZzEsIDIiIDogdGlsZV9sYXllcl84MGUyZmRjYzNkNmY0YTUwYTJmNGQ2NjA1NDU4ZmFlNiwKICAgICAgICAgICAgICAgICAgICAiaW1nMSwgMyIgOiB0aWxlX2xheWVyXzI2YTRmZWRlNzYxZjQ3OWY5ODI3MzFmZWE1YjQ1MTdlLAogICAgICAgICAgICAgICAgICAgICJpbWcyLCAwIiA6IHRpbGVfbGF5ZXJfYTA0NjAxNDFkYzgxNDFhNzlmOTZjYzNiYWE5MTA4YzksCiAgICAgICAgICAgICAgICAgICAgImltZzIsIDEiIDogdGlsZV9sYXllcl8zNzA2NzNmZjc2YWQ0YzZiOTA0ZjlmZDE5OGZiNjg1YiwKICAgICAgICAgICAgICAgICAgICAiaW1nMiwgMiIgOiB0aWxlX2xheWVyXzJjMWI0ZTllODliMzRiNDhiODM3ZTcxZGUxZGIzMGJmLAogICAgICAgICAgICAgICAgICAgICJpbWcyLCAzIiA6IHRpbGVfbGF5ZXJfNTI2NjljN2Q5ZWVlNDMwNDhkZTkzYTdjNGNjNGExZDIsCiAgICAgICAgICAgICAgICB9LAogICAgICAgICAgICB9OwogICAgICAgICAgICBMLmNvbnRyb2wubGF5ZXJzKAogICAgICAgICAgICAgICAgbGF5ZXJfY29udHJvbF82NWMwNjQ3MzVkYzI0YWE1ODg0MzM2ZDkwMmRhYjIyZC5iYXNlX2xheWVycywKICAgICAgICAgICAgICAgIGxheWVyX2NvbnRyb2xfNjVjMDY0NzM1ZGMyNGFhNTg4NDMzNmQ5MDJkYWIyMmQub3ZlcmxheXMsCiAgICAgICAgICAgICAgICB7ImF1dG9aSW5kZXgiOiB0cnVlLCAiY29sbGFwc2VkIjogdHJ1ZSwgInBvc2l0aW9uIjogInRvcHJpZ2h0In0KICAgICAgICAgICAgKS5hZGRUbyhtYXBfZjI4OWIyZTkzODg4NGQwZTgzYWRjZDMxNDk0Mzk3YTUpOwogICAgICAgIAo8L3NjcmlwdD4= onload=\"this.contentDocument.open();this.contentDocument.write(atob(this.getAttribute('data-html')));this.contentDocument.close();\" allowfullscreen webkitallowfullscreen mozallowfullscreen></iframe></div></div>"
      ],
      "text/plain": [
       "<folium.folium.Map at 0x24dec45a288>"
      ]
     },
     "execution_count": 62,
     "metadata": {},
     "output_type": "execute_result"
    }
   ],
   "source": [
    "# Visualizing the image\n",
    "# mapIdDicts = np.empty((x_tile_segments, y_tile_segments), dict)\n",
    "# for col in range(x_tile_segments):\n",
    "#     for row in range(y_tile_segments):\n",
    "#         mapIdDicts[col, row] = (test_imgs[col, row]).getMapId({'bands': ['B4', 'B3', 'B2'], 'min': 93, 'max': 1801})\n",
    "\n",
    "\n",
    "center_x = corner_coords[0][0] + (corner_coords[1][0] - corner_coords[0][0])/2\n",
    "center_y = corner_coords[1][1] + (corner_coords[1][1] - corner_coords[2][1])/2\n",
    "\n",
    "map = folium.Map(location=[center_x, center_y])\n",
    "for col in range(x_tile_segments):\n",
    "    for row in range(y_tile_segments):\n",
    "        folium.TileLayer(\n",
    "            tiles = mapIdDicts[col, row]['tile_fetcher'].url_format,\n",
    "            attr='Map Data &copy; <a href=https://earthengine.google.com/>Google Earth Engine</a>',\n",
    "            overlay=True,\n",
    "            name=f'img{col}, {row}',\n",
    "        ).add_to(map)\n",
    "map.add_child(folium.LayerControl())\n",
    "map"
   ]
  },
  {
   "cell_type": "code",
   "execution_count": null,
   "metadata": {},
   "outputs": [],
   "source": []
  }
 ],
 "metadata": {
  "kernelspec": {
   "display_name": "Python 3",
   "language": "python",
   "name": "python3"
  },
  "language_info": {
   "codemirror_mode": {
    "name": "ipython",
    "version": 3
   },
   "file_extension": ".py",
   "mimetype": "text/x-python",
   "name": "python",
   "nbconvert_exporter": "python",
   "pygments_lexer": "ipython3",
   "version": "3.7.7"
  }
 },
 "nbformat": 4,
 "nbformat_minor": 4
}
