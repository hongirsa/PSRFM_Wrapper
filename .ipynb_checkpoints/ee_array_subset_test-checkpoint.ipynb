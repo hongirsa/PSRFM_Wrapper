{
 "cells": [
  {
   "cell_type": "code",
   "execution_count": 1,
   "metadata": {},
   "outputs": [],
   "source": [
    "%config IPCompleter.greedy=True"
   ]
  },
  {
   "cell_type": "code",
   "execution_count": 10,
   "metadata": {},
   "outputs": [],
   "source": [
    "from pprint import pprint\n",
    "import folium\n",
    "import geopy.distance\n",
    "import math\n",
    "import numpy as np\n",
    "from IPython import embed"
   ]
  },
  {
   "cell_type": "code",
   "execution_count": 3,
   "metadata": {},
   "outputs": [
    {
     "data": {
      "text/html": [
       "<p>To authorize access needed by Earth Engine, open the following\n",
       "        URL in a web browser and follow the instructions:</p>\n",
       "        <p><a href=https://accounts.google.com/o/oauth2/auth?client_id=517222506229-vsmmajv00ul0bs7p89v5m89qs8eb9359.apps.googleusercontent.com&scope=https%3A%2F%2Fwww.googleapis.com%2Fauth%2Fearthengine+https%3A%2F%2Fwww.googleapis.com%2Fauth%2Fdevstorage.full_control&redirect_uri=urn%3Aietf%3Awg%3Aoauth%3A2.0%3Aoob&response_type=code&code_challenge=VkAIxCyPavUemG1Mk7pGH1_tu86kIzvR6uMedIPuxaY&code_challenge_method=S256>https://accounts.google.com/o/oauth2/auth?client_id=517222506229-vsmmajv00ul0bs7p89v5m89qs8eb9359.apps.googleusercontent.com&scope=https%3A%2F%2Fwww.googleapis.com%2Fauth%2Fearthengine+https%3A%2F%2Fwww.googleapis.com%2Fauth%2Fdevstorage.full_control&redirect_uri=urn%3Aietf%3Awg%3Aoauth%3A2.0%3Aoob&response_type=code&code_challenge=VkAIxCyPavUemG1Mk7pGH1_tu86kIzvR6uMedIPuxaY&code_challenge_method=S256</a></p>\n",
       "        <p>The authorization workflow will generate a code, which you\n",
       "        should paste in the box below</p>\n",
       "        "
      ],
      "text/plain": [
       "<IPython.core.display.HTML object>"
      ]
     },
     "metadata": {},
     "output_type": "display_data"
    },
    {
     "name": "stdin",
     "output_type": "stream",
     "text": [
      "Enter verification code:  4/2AHZNSPRGfisvYtL1aE9RPvziMYo5IaSUa7T50RyS3phitFpYWt63ng\n"
     ]
    },
    {
     "name": "stdout",
     "output_type": "stream",
     "text": [
      "\n",
      "Successfully saved authorization token.\n"
     ]
    }
   ],
   "source": [
    "import ee\n",
    "ee.Authenticate()"
   ]
  },
  {
   "cell_type": "code",
   "execution_count": 4,
   "metadata": {},
   "outputs": [],
   "source": [
    "ee.Initialize()"
   ]
  },
  {
   "cell_type": "code",
   "execution_count": 5,
   "metadata": {},
   "outputs": [],
   "source": [
    "# constants for each satellite\n",
    "ls5 = {\n",
    "    'imagecollection_id' : 'LANDSAT/LT05/C01/T1_SR',\n",
    "    'pixel_size' : 30,\n",
    "    'bands' : ['B1', 'B2', 'B3', 'B4', 'B5', 'B7', 'pixel_qa'],\n",
    "    'time_field' : 'system:time_start'\n",
    "}\n",
    "ls8 = {\n",
    "    'imagecollection_id' : 'LANDSAT/LC08/C01/T1_SR',\n",
    "    'pixel_size' : 30,\n",
    "    'bands' : ['B2', 'B3', 'B4', 'B5', 'B6', 'B7', 'pixel_qa'],\n",
    "    'time_field' : 'system:time_start'\n",
    "}\n",
    "s2 = {\n",
    "    'imagecollection_id' : 'COPERNICUS/S2_SR',\n",
    "    'pixel_size' : 20,\n",
    "    'bands' : ['B2', 'B3', 'B4', 'B8A', 'B11', 'B12', 'MSK_CLDPRB', 'QA60'], #check up msk and qa60 msk is 20m qa60 is 60m\n",
    "    'time_field' : 'system:time_start'\n",
    "}\n",
    "modis = {\n",
    "    'imagecollection_id' : 'MODIS/006/MCD43A4',\n",
    "    'pixel_size' : 500,\n",
    "    'bands' : ['Nadir_Reflectance_Band3', 'Nadir_Reflectance_Band4', 'Nadir_Reflectance_Band1', 'Nadir_Reflectance_Band2', 'Nadir_Reflectance_Band6', 'Nadir_Reflectance_Band7'],\n",
    "    'time_field' : 'system:time_start'\n",
    "}\n",
    "image_sets = {\n",
    "    'ls5' : ls5,\n",
    "    'ls8' : ls8,\n",
    "    's2' : s2,\n",
    "    'modis' : modis\n",
    "}"
   ]
  },
  {
   "cell_type": "code",
   "execution_count": 6,
   "metadata": {},
   "outputs": [],
   "source": [
    "# User inputted data\n",
    "west_long = 133.84410607205484\n",
    "east_long = west_long+(134.7422383962736 - west_long)/5 #temporary just to make a smaller area\n",
    "north_lat = -22.638743081339985\n",
    "south_lat = north_lat - (north_lat - (-23.52560283638598))/5 #temporary just to make a smaller area\n",
    "date_range = ('2014-08-01', '2014-12-31')\n",
    "prediction_dates = ['2014-08-25', '2014-09-21']\n",
    "satellite_choice = 'ls8'\n",
    "overlap_fraction = 1 # how much of the minimum block size to add for the overlap. Default is one.\n",
    "percent_clear = 95\n",
    "\n",
    "# calculated baseline variables from user data\n",
    "corner_coords = [[east_long, south_lat], [west_long, south_lat], [west_long, north_lat], [east_long, north_lat], [east_long, south_lat]]\n",
    "block_size = math.floor(image_sets['modis']['pixel_size']/image_sets[satellite_choice]['pixel_size'])\n",
    "# minimum tile size is 10 MODIS pixels, this following formula just accounts for how many pixels we need at minimum to have it as a multiple of block size which is a PSRFM req\n",
    "min_tile_dim_px = block_size*10\n",
    "min_tile_dim_km = (min_tile_dim_px * image_sets[satellite_choice]['pixel_size'])/1000\n",
    "# min_tile_dim_km, east_long, block_size, west_long, east_long, north_lat, south_lat"
   ]
  },
  {
   "cell_type": "code",
   "execution_count": 7,
   "metadata": {},
   "outputs": [],
   "source": [
    "# Creating the geometry for tiles within the specified coordinates\n",
    "# first calculate the side lengths of the region selected\n",
    "x_dist = geopy.distance.geodesic([south_lat, east_long], [south_lat, west_long]).km\n",
    "y_dist = geopy.distance.geodesic([north_lat, east_long], [south_lat, east_long]).km\n",
    "\n",
    "# determine the number of tile segments to fully cover the region, rounded up to ensure overlap\n",
    "# need to look at this later to ensure that each tile has enough of an overlap to ensure pixels are a multiple of block size (aka cropping)\n",
    "x_tile_segments = math.floor(x_dist/min_tile_dim_km)\n",
    "y_tile_segments = math.floor(y_dist/min_tile_dim_km)\n",
    "\n",
    "# generate a list of ordered coordinates (west to east, north to south) based on the number of tiles\n",
    "# creating an overlap of approx 1 block_size pixels to ensure that each tile after cropping for PSRFM will still retain some overlap\n",
    "km_long = abs(east_long - west_long)/x_dist\n",
    "km_lat = abs(north_lat - south_lat)/y_dist\n",
    "long_overlap = ((overlap_fraction * block_size * image_sets[satellite_choice]['pixel_size'])/1000) * km_long\n",
    "lat_overlap = ((overlap_fraction * block_size * image_sets[satellite_choice]['pixel_size'])/1000) * km_lat\n",
    "\n",
    "# determining the coordinate jumps for each tile(sans overlap)\n",
    "x_coord_increment = abs(east_long - west_long)/x_tile_segments + long_overlap\n",
    "y_coord_increment = abs(north_lat - south_lat)/y_tile_segments + lat_overlap\n",
    "\n",
    "# creating the lists\n",
    "west_tile_coords = [east_long - (tile_no + 1) * x_coord_increment for tile_no in reversed(range(x_tile_segments))]\n",
    "east_tile_coords = [west_long + (tile_no + 1) * x_coord_increment for tile_no in range(x_tile_segments)]\n",
    "\n",
    "north_tile_coords = [south_lat + (tile_no + 1) * y_coord_increment for tile_no in reversed(range(y_tile_segments))]\n",
    "south_tile_coords = [north_lat - (tile_no + 1) * y_coord_increment for tile_no in range(y_tile_segments)]\n",
    "\n",
    "tiles = np.empty((x_tile_segments, y_tile_segments), ee.Geometry)\n",
    "for col in range(x_tile_segments):\n",
    "    east_coord = east_tile_coords[col]\n",
    "    west_coord = west_tile_coords[col]\n",
    "    for row in range(y_tile_segments):\n",
    "        north_coord = north_tile_coords[row]\n",
    "        south_coord = south_tile_coords[row]\n",
    "        tiles[col, row] = ee.Geometry.Rectangle([west_coord, south_coord, east_coord, north_coord])\n",
    "        \n",
    "# x_dist, y_dist, min_tile_dim_km, x_tile_segments, y_tile_segments, x_coord_increment, y_coord_increment, west_tile_coords, east_tile_coords, north_tile_coords, south_tile_coords, tiles"
   ]
  },
  {
   "cell_type": "code",
   "execution_count": 24,
   "metadata": {},
   "outputs": [
    {
     "name": "stdout",
     "output_type": "stream",
     "text": [
      "2\n"
     ]
    }
   ],
   "source": [
    "# generating arrays of the fine and coarse res imagecollections\n",
    "fine_res_tiles = np.empty((x_tile_segments, y_tile_segments), ee.ImageCollection)\n",
    "# array to track which dates of fine res images are used to get the MODIS images corresponding to the dates\n",
    "fine_res_dates = np.empty((x_tile_segments, y_tile_segments), dtype = list)\n",
    "\n",
    "for col in range(x_tile_segments):\n",
    "    for row in range(y_tile_segments):\n",
    "        #get a collection for all images within the date range, clipped to region and filtered for cloud cover\n",
    "        initial_collection = (ee.ImageCollection(image_sets[satellite_choice]['imagecollection_id'])\n",
    "                        .filterBounds(tiles[col, row])\n",
    "                        .filterDate(*date_range)\n",
    "                        .sort(image_sets[satellite_choice]['time_field'])\n",
    "                        .map(lambda image: image.clip(tiles[col, row]))\n",
    "#                         .filterMetadata('CLOUD_COVER', 'less_than' , 1)\n",
    "#                       add filter for cloud mask\n",
    "                     )\n",
    "#         debug\n",
    "#         print('initialcollectiondates')\n",
    "#         for i in range(len(initial_collection.getInfo()['features'])):\n",
    "#             print(initial_collection.getInfo()['features'][i]['id'])\n",
    "#             print(initial_collection.getInfo()['features'][i]['properties']['CLOUD_COVER'])\n",
    "        \n",
    "        date_filtered_collections = []\n",
    "        fine_res_dates[col][row] = []\n",
    "        \n",
    "        for date in prediction_dates:\n",
    "#           create a field calculating the distance of images from each prediction date, and find the lowest two for each date to use for PSRFM\n",
    "            initial_collection = initial_collection.map(\n",
    "                lambda image: image.set(f'dateDist{date}', \n",
    "                                        ee.Number(image.get('system:time_start'))\n",
    "                                        .subtract(ee.Date.millis(ee.Date(date)))\n",
    "#                                         .abs()\n",
    "                                       ))\n",
    "#             closest_two_list = initial_collection.sort(f'dateDist{date}').toList(initial_collection.size())\n",
    "            \n",
    "            first_before = initial_collection.filterMetadata(f'dateDist{date}', 'less_than', 0).sort(f'dateDist{date}', False).first()\n",
    "            first_after = initial_collection.filterMetadata(f'dateDist{date}', 'greater_than', 0).sort(f'dateDist{date}', True).first()\n",
    "                     \n",
    "# exception? following lines might fail if no valid images within date range: \n",
    "#             second_closest_image_dist = closest_two_list.get(1).getInfo()['properties'][f'dateDist{date}']\n",
    "            closest_two_list = ee.ImageCollection([first_before, first_after])\n",
    "#     closest_two_list.filter(\n",
    "#                 ee.Filter.lessThanOrEquals(f'dateDist{date}', second_closest_image_dist))\n",
    "#           Insert the dates selected for PSRFM to track which MODIS images to extract later\n",
    "            first_image_date = first_before.getInfo()['properties']['system:time_start']\n",
    "#     ee.Date(\n",
    "#                 closest_two_list.get(0).getInfo()['properties']['system:time_start'])\n",
    "            second_image_date = first_after.getInfo()['properties']['system:time_start']\n",
    "#     ee.Date(\n",
    "#                 closest_two_list.get(1).getInfo()['properties']['system:time_start'])\n",
    "            fine_res_dates[col][row].append(first_image_date )\n",
    "            fine_res_dates[col][row].append(second_image_date)     \n",
    "#           Convert the two closest images into an imagcollecion and add to the relevant tile\n",
    "            date_filtered_collections.append(ee.ImageCollection(closest_two_list))\n",
    "        \n",
    "        selected_date_collection = date_filtered_collections[0]\n",
    "#         print(selected_date_collection.getInfo())\n",
    "        for collection in range(len(date_filtered_collections) - 1):\n",
    "#             embed()\n",
    "            selected_date_collection.combine(selected_date_collection, date_filtered_collections[collection + 1])\n",
    "        fine_res_tiles[col, row] = selected_date_collection\n",
    "#         print(selected_date_collection.getInfo())\n",
    "\n",
    "# coarse_res_tiles = np.empty((x_tile_segments, y_tile_segments), ee.ImageCollection)\n",
    "# for col in range(x_tile_segments):\n",
    "#     for row in range(y_tile_segments):\n",
    "#         collection = (ee.ImageCollection(image_sets['modis']['imagecollection_id'])\n",
    "#                         .filterBounds(tiles[col, row])\n",
    "#                         .filterDate(*date_range)\n",
    "#                         .sort(image_sets['modis']['time_field'])\n",
    "#                         .map(lambda image: image.clip(tiles[col, row])))\n",
    "#         coarse_res_tiles[col, row] = collection\n",
    "\n",
    "pprint(len(fine_res_tiles[0,0].getInfo()['features']))"
   ]
  },
  {
   "cell_type": "code",
   "execution_count": 15,
   "metadata": {},
   "outputs": [],
   "source": [
    "# export imagecollection tile array function\n",
    "def export_tile_array(tile_array):\n",
    "    for col in range(len(tile_array)):\n",
    "        for row in range(len(tile_array[col])):\n",
    "            for elem in range(ee.ImageCollection.size(tile_array[col, row]).getInfo()):\n",
    "                print(type(tile_array[col, row]))\n",
    "#                 task = ee.batch.Export.image.toDrive(\n",
    "#                                         image = tile_array[col, row].get(elem).toInt16(),\n",
    "#                                         region = tile_array[col, row].get(elem).getInfo()['coordinates'],\n",
    "#                                         crs = 'EPSG:32653',\n",
    "#                                         description = 'testimagepyexport')\n",
    "#             task.start()\n",
    "\n",
    "# export_tile_array(coarse_res_tiles)\n",
    "# export_tile_array(fine_res_tiles)"
   ]
  },
  {
   "cell_type": "code",
   "execution_count": null,
   "metadata": {},
   "outputs": [],
   "source": [
    "test_imgs = np.empty((x_tile_segments, y_tile_segments), ee.Image)\n",
    "for col in range(x_tile_segments):\n",
    "    for row in range(y_tile_segments):\n",
    "        test_imgs[col, row] = ee.Image(fine_res_tiles[col, row].first())\n",
    "\n",
    "# test_imgs"
   ]
  },
  {
   "cell_type": "code",
   "execution_count": null,
   "metadata": {},
   "outputs": [],
   "source": [
    "mapIdDicts = np.empty((x_tile_segments, y_tile_segments), dict)\n",
    "for col in range(x_tile_segments):\n",
    "    for row in range(y_tile_segments):\n",
    "        mapIdDicts[col, row] = (test_imgs[col, row]).getMapId({'bands': ['B4', 'B3', 'B2'], 'min': 93, 'max': 1801})\n",
    "# mapIdDicts"
   ]
  },
  {
   "cell_type": "code",
   "execution_count": null,
   "metadata": {},
   "outputs": [],
   "source": [
    "xloc = west_long\n",
    "yloc = north_lat \n",
    "\n",
    "map = folium.Map(location=[xloc, yloc])\n",
    "for col in range(x_tile_segments):\n",
    "    for row in range(y_tile_segments):\n",
    "        folium.TileLayer(\n",
    "            tiles = mapIdDicts[col, row]['tile_fetcher'].url_format,\n",
    "            attr='Map Data &copy; <a href=https://earthengine.google.com/>Google Earth Engine</a>',\n",
    "            overlay=True,\n",
    "            name=f'img{col}, {row}'\n",
    "        ).add_to(map)\n",
    "map.add_child(folium.LayerControl())\n",
    "map"
   ]
  },
  {
   "cell_type": "code",
   "execution_count": null,
   "metadata": {},
   "outputs": [],
   "source": []
  }
 ],
 "metadata": {
  "kernelspec": {
   "display_name": "Python 3",
   "language": "python",
   "name": "python3"
  },
  "language_info": {
   "codemirror_mode": {
    "name": "ipython",
    "version": 3
   },
   "file_extension": ".py",
   "mimetype": "text/x-python",
   "name": "python",
   "nbconvert_exporter": "python",
   "pygments_lexer": "ipython3",
   "version": "3.7.7"
  }
 },
 "nbformat": 4,
 "nbformat_minor": 4
}
