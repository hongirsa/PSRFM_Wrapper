{
 "cells": [
  {
   "cell_type": "code",
   "execution_count": 1,
   "metadata": {},
   "outputs": [],
   "source": [
    "%config IPCompleter.greedy=True"
   ]
  },
  {
   "cell_type": "code",
   "execution_count": 2,
   "metadata": {},
   "outputs": [],
   "source": [
    "from pprint import pprint\n",
    "import folium\n",
    "import geopy.distance"
   ]
  },
  {
   "cell_type": "code",
   "execution_count": 3,
   "metadata": {},
   "outputs": [
    {
     "data": {
      "text/html": [
       "<p>To authorize access needed by Earth Engine, open the following\n",
       "        URL in a web browser and follow the instructions:</p>\n",
       "        <p><a href=https://accounts.google.com/o/oauth2/auth?client_id=517222506229-vsmmajv00ul0bs7p89v5m89qs8eb9359.apps.googleusercontent.com&scope=https%3A%2F%2Fwww.googleapis.com%2Fauth%2Fearthengine+https%3A%2F%2Fwww.googleapis.com%2Fauth%2Fdevstorage.full_control&redirect_uri=urn%3Aietf%3Awg%3Aoauth%3A2.0%3Aoob&response_type=code&code_challenge=w4AVKlgMkvR3Zn7CyCKXSDcanvYBXde-aouC28hJFMI&code_challenge_method=S256>https://accounts.google.com/o/oauth2/auth?client_id=517222506229-vsmmajv00ul0bs7p89v5m89qs8eb9359.apps.googleusercontent.com&scope=https%3A%2F%2Fwww.googleapis.com%2Fauth%2Fearthengine+https%3A%2F%2Fwww.googleapis.com%2Fauth%2Fdevstorage.full_control&redirect_uri=urn%3Aietf%3Awg%3Aoauth%3A2.0%3Aoob&response_type=code&code_challenge=w4AVKlgMkvR3Zn7CyCKXSDcanvYBXde-aouC28hJFMI&code_challenge_method=S256</a></p>\n",
       "        <p>The authorization workflow will generate a code, which you\n",
       "        should paste in the box below</p>\n",
       "        "
      ],
      "text/plain": [
       "<IPython.core.display.HTML object>"
      ]
     },
     "metadata": {},
     "output_type": "display_data"
    },
    {
     "name": "stdin",
     "output_type": "stream",
     "text": [
      "Enter verification code:  4/1QFY47yh79zZPKNgLhowjPRRejVFO_-fAcpX42712vOCagcGctaoA5Y\n"
     ]
    },
    {
     "name": "stdout",
     "output_type": "stream",
     "text": [
      "\n",
      "Successfully saved authorization token.\n"
     ]
    }
   ],
   "source": [
    "import ee\n",
    "ee.Authenticate()"
   ]
  },
  {
   "cell_type": "code",
   "execution_count": 4,
   "metadata": {},
   "outputs": [],
   "source": [
    "ee.Initialize()"
   ]
  },
  {
   "cell_type": "code",
   "execution_count": 5,
   "metadata": {},
   "outputs": [],
   "source": [
    "# constants and dicts\n",
    "fine_res_datasets = {\n",
    "    'ls5': 'LANDSAT/LT05/C01/T1_SR',\n",
    "    'ls8': 'LANDSAT/LC08/C01/T1_SR',\n",
    "    's2':  'COPERNICUS/S2_SR'\n",
    "}\n",
    "fine_res_resolutions = {\n",
    "    'ls5': 30,\n",
    "    'ls8': 30,\n",
    "    's2':  20\n",
    "}"
   ]
  },
  {
   "cell_type": "code",
   "execution_count": 6,
   "metadata": {},
   "outputs": [],
   "source": [
    "# Params for the rest of the code\n",
    "corner_coords = [[133.84410607205484,-23.52560283638598], [134.7422383962736,-23.52560283638598], [134.7422383962736,-22.638743081339985], [133.84410607205484,-22.638743081339985], [133.84410607205484,-23.52560283638598]]\n",
    "date_range = (\"2010-08-01\", \"2011-12-31\")\n",
    "satellite_choice = 'ls5'"
   ]
  },
  {
   "cell_type": "code",
   "execution_count": 7,
   "metadata": {},
   "outputs": [],
   "source": [
    "# creating the region in an earthengine geometry object\n",
    "region = ee.Geometry.Polygon(corner_coords)"
   ]
  },
  {
   "cell_type": "code",
   "execution_count": 8,
   "metadata": {},
   "outputs": [
    {
     "name": "stdout",
     "output_type": "stream",
     "text": [
      "[['LANDSAT/LT05/C01/T1_SR/LT05_102076_20100805', 1],\n",
      " ['LANDSAT/LT05/C01/T1_SR/LT05_102076_20100906', 0],\n",
      " ['LANDSAT/LT05/C01/T1_SR/LT05_102076_20101008', 20],\n",
      " ['LANDSAT/LT05/C01/T1_SR/LT05_102076_20101024', 0],\n",
      " ['LANDSAT/LT05/C01/T1_SR/LT05_101076_20101102', 2],\n",
      " ['LANDSAT/LT05/C01/T1_SR/LT05_101076_20101118', 0],\n",
      " ['LANDSAT/LT05/C01/T1_SR/LT05_102076_20101227', 0],\n",
      " ['LANDSAT/LT05/C01/T1_SR/LT05_102076_20110128', 0],\n",
      " ['LANDSAT/LT05/C01/T1_SR/LT05_101076_20110222', 12],\n",
      " ['LANDSAT/LT05/C01/T1_SR/LT05_102076_20110418', 0],\n",
      " ['LANDSAT/LT05/C01/T1_SR/LT05_102076_20110504', 20],\n",
      " ['LANDSAT/LT05/C01/T1_SR/LT05_102076_20110520', 0],\n",
      " ['LANDSAT/LT05/C01/T1_SR/LT05_101076_20110529', 0],\n",
      " ['LANDSAT/LT05/C01/T1_SR/LT05_102076_20110621', 0],\n",
      " ['LANDSAT/LT05/C01/T1_SR/LT05_102076_20110808', 0],\n",
      " ['LANDSAT/LT05/C01/T1_SR/LT05_101076_20110902', 0],\n",
      " ['LANDSAT/LT05/C01/T1_SR/LT05_102076_20110909', 4],\n",
      " ['LANDSAT/LT05/C01/T1_SR/LT05_102076_20110925', 11],\n",
      " ['LANDSAT/LT05/C01/T1_SR/LT05_102076_20111112', 15]]\n"
     ]
    }
   ],
   "source": [
    "# creating an imagecollection for fine images with params\n",
    "collection = ee.ImageCollection(fine_res_datasets[satellite_choice]).filterBounds(region).filterDate(*date_range).sort(\"system:time_start\")\n",
    "collection_ids = []\n",
    "for feature in collection.getInfo()['features']:\n",
    "    collection_ids.append([feature['id'], feature['properties']['CLOUD_COVER']])\n",
    "pprint(collection_ids)"
   ]
  },
  {
   "cell_type": "code",
   "execution_count": 11,
   "metadata": {},
   "outputs": [],
   "source": [
    "task = ee.batch.Export.image.toDrive(image = collection.first().toInt16(),\n",
    "                                    region = region.getInfo()['coordinates'],\n",
    "                                    description = 'testimagepyexport' \n",
    "                                    )\n",
    "task.start()"
   ]
  },
  {
   "cell_type": "code",
   "execution_count": null,
   "metadata": {},
   "outputs": [],
   "source": []
  }
 ],
 "metadata": {
  "kernelspec": {
   "display_name": "Python 3",
   "language": "python",
   "name": "python3"
  },
  "language_info": {
   "codemirror_mode": {
    "name": "ipython",
    "version": 3
   },
   "file_extension": ".py",
   "mimetype": "text/x-python",
   "name": "python",
   "nbconvert_exporter": "python",
   "pygments_lexer": "ipython3",
   "version": "3.7.7"
  }
 },
 "nbformat": 4,
 "nbformat_minor": 4
}
