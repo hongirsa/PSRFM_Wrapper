{
 "cells": [
  {
   "cell_type": "code",
   "execution_count": 4,
   "metadata": {},
   "outputs": [],
   "source": [
    "%config IPCompleter.greedy=True"
   ]
  },
  {
   "cell_type": "code",
   "execution_count": 14,
   "metadata": {},
   "outputs": [],
   "source": [
    "import os\n",
    "import rasterio as rio\n",
    "import fileinput\n",
    "import datetime\n",
    "import shutil\n",
    "from rasterio.windows import Window\n",
    "from matplotlib import pyplot"
   ]
  },
  {
   "cell_type": "code",
   "execution_count": 8,
   "metadata": {},
   "outputs": [],
   "source": [
    "def get_date_from_filename(filename):\n",
    "    date = datetime.datetime.strptime(filename[-15:-4], '%d-%b-%Y')\n",
    "    return date"
   ]
  },
  {
   "cell_type": "code",
   "execution_count": 67,
   "metadata": {},
   "outputs": [],
   "source": [
    "drive_folder_location = 'C:/Users/karan/Google Drive'\n",
    "drive_folder = 'test27aug1'\n",
    "satellite_choice = 'ls8'\n",
    "block_size = 16 #automate later\n",
    "number_of_bands = 7\n",
    "prediction_dates = ['2014-08-17']\n",
    "prediction_dates = [datetime.datetime.strptime(date, '%Y-%m-%d') for date in prediction_dates]\n",
    "\n",
    "tif_paths = {\n",
    "    'fine_res_path' : f'{drive_folder_location}/{drive_folder}_{satellite_choice}',\n",
    "    'mask_path' : f'{drive_folder_location}/{drive_folder}_{satellite_choice}_mask',\n",
    "    'coarse_res_path' : f'{drive_folder_location}/{drive_folder}_modis'\n",
    "}\n",
    "psrfm_info_dst = {\n",
    "    'PSRFM_exe_path' : 'C:/Users/karan/Documents/CCRS_2A_COOP/PSRFM_Wrapper/PSRM_exe_params',\n",
    "    'dst_base_path' : 'C:/Users/karan/Documents/CCRS_2A_COOP/PSRFM_Testing/AustraliaAutoTest1',\n",
    "    'dst_input_path' : psrfm_info_dst['dst_base_path'] + '/Input',\n",
    "    'dst_param_path' : psrfm_info_dst['dst_base_path'] + '/params'\n",
    "}\n",
    "filenames = []\n",
    "tile_struct = {\n",
    "    'x_tiles' : 2,\n",
    "    'y_tiles' : 2}"
   ]
  },
  {
   "cell_type": "code",
   "execution_count": 46,
   "metadata": {},
   "outputs": [],
   "source": [
    "if not os.path.exists(f'{drive_folder_location}/{drive_folder}'):\n",
    "    os.mkdir(f'{drive_folder_location}/{drive_folder}')\n",
    "for path in tif_paths:\n",
    "#     create destination directories\n",
    "    if not os.path.exists(psrfm_info_dst['dst_base_path']):\n",
    "        os.mkdir(psrfm_info_dst['dst_base_path'])\n",
    "    if not os.path.exists(psrfm_info_dst['dst_input_path']):\n",
    "        os.mkdir(psrfm_info_dst['dst_input_path'])\n",
    "    for filename in os.listdir(tif_paths[path]):\n",
    "        filenames.append(filename)\n",
    "        with rio.open(f'{tif_paths[path]}/{filename}') as image_to_crop:\n",
    "#             print(f'[{image_to_crop.meta[\"width\"]}, {image_to_crop.meta[\"height\"]}]')\n",
    "            finalx = image_to_crop.meta[\"width\"] - image_to_crop.meta[\"width\"] % block_size\n",
    "            finaly = image_to_crop.meta[\"height\"] - image_to_crop.meta[\"height\"] % block_size\n",
    "            col_offset = (image_to_crop.width - finalx)/2\n",
    "            row_offset = (image_to_crop.height - finaly)/2\n",
    "            \n",
    "            subset_window = Window(col_offset, row_offset, finalx, finaly)\n",
    "            newargs = image_to_crop.meta.copy()\n",
    "            newargs.update({\n",
    "                'height': subset_window.height,\n",
    "                'width': subset_window.width,\n",
    "                'transform': rio.windows.transform(subset_window, image_to_crop.transform),\n",
    "                'driver': 'ENVI'\n",
    "            })\n",
    "            \n",
    "            with rio.open(f'{psrfm_info_dst[\"dst_input_path\"]}/{filename[:-4]}.dat', 'w', **newargs) as dst:\n",
    "                dst.write(image_to_crop.read(window=subset_window))"
   ]
  },
  {
   "cell_type": "code",
   "execution_count": 72,
   "metadata": {},
   "outputs": [],
   "source": [
    "# setting up necessary folders and param files for PSRFM processing\n",
    "if not os.path.exists(f'{psrfm_info_dst[\"dst_base_path\"]}/PSRFM_Main.exe'):\n",
    "    shutil.copy(f\"{psrfm_info_dst['PSRFM_exe_path']}/PSRFM_Main.exe\", psrfm_info_dst['dst_base_path'])\n",
    "if not os.path.exists(psrfm_info_dst['dst_param_path']):\n",
    "    os.mkdir(f'{psrfm_info_dst[\"dst_base_path\"]}/params')"
   ]
  },
  {
   "cell_type": "code",
   "execution_count": 74,
   "metadata": {},
   "outputs": [
    {
     "data": {
      "text/plain": [
       "([('1_1_ls8_228_16-Aug-2014.dat', datetime.datetime(2014, 8, 16, 0, 0)),\n",
       "  ('1_1_ls8_228_16-Aug-2014.hdr', datetime.datetime(2014, 8, 16, 0, 0)),\n",
       "  ('1_1_ls8_244_01-Sep-2014.dat', datetime.datetime(2014, 9, 1, 0, 0)),\n",
       "  ('1_1_ls8_244_01-Sep-2014.hdr', datetime.datetime(2014, 9, 1, 0, 0))],\n",
       " [('1_1_ls8_mask_228_16-Aug-2014.dat', datetime.datetime(2014, 8, 16, 0, 0)),\n",
       "  ('1_1_ls8_mask_228_16-Aug-2014.hdr', datetime.datetime(2014, 8, 16, 0, 0)),\n",
       "  ('1_1_ls8_mask_244_01-Sep-2014.dat', datetime.datetime(2014, 9, 1, 0, 0)),\n",
       "  ('1_1_ls8_mask_244_01-Sep-2014.hdr', datetime.datetime(2014, 9, 1, 0, 0))],\n",
       " [('1_1_modis_228_16-Aug-2014.dat', datetime.datetime(2014, 8, 16, 0, 0)),\n",
       "  ('1_1_modis_228_16-Aug-2014.hdr', datetime.datetime(2014, 8, 16, 0, 0)),\n",
       "  ('1_1_modis_229_17-Aug-2014.dat', datetime.datetime(2014, 8, 17, 0, 0)),\n",
       "  ('1_1_modis_229_17-Aug-2014.hdr', datetime.datetime(2014, 8, 17, 0, 0)),\n",
       "  ('1_1_modis_244_01-Sep-2014.dat', datetime.datetime(2014, 9, 1, 0, 0)),\n",
       "  ('1_1_modis_244_01-Sep-2014.hdr', datetime.datetime(2014, 9, 1, 0, 0))],\n",
       " [datetime.datetime(2014, 8, 16, 0, 0), datetime.datetime(2014, 9, 1, 0, 0)],\n",
       " 1)"
      ]
     },
     "execution_count": 74,
     "metadata": {},
     "output_type": "execute_result"
    }
   ],
   "source": [
    "# finding the correct images to put into the param files\n",
    "for col in range(tile_struct['x_tiles']):\n",
    "    for row in range(tile_struct['y_tiles']):\n",
    "        fine_res_filenames = [(filename, get_date_from_filename(filename)) for filename in os.listdir(psrfm_info_dst['dst_input_path']) if filename.startswith(f'{col}_{row}_{satellite_choice}') and not filename.startswith(f'{col}_{row}_{satellite_choice}_mask')]\n",
    "        mask_filenames = [(filename, get_date_from_filename(filename)) for filename in os.listdir(psrfm_info_dst['dst_input_path']) if filename.startswith(f'{col}_{row}_{satellite_choice}_mask')]\n",
    "        coarse_res_filenames = [(filename, get_date_from_filename(filename)) for filename in os.listdir(psrfm_info_dst['dst_input_path']) if filename.startswith(f'{col}_{row}_modis')]\n",
    "        all_dates = sorted([pair[1] for pair in coarse_res_filenames if pair[0].endswith('.dat')])\n",
    "        fine_res_dates = sorted([pair[1] for pair in fine_res_filenames if pair[0].endswith('.dat')])\n",
    "        PSRFM_instances = round(len(fine_res_dates)/2) #if there's 3 or 4 reference images, we have to run PSRFM twice, 5, or 6 thrice etc.\n",
    "        PSRFM_instances = []\n",
    "        for instance in range(PSRFM_instances):\n",
    "            if not os.path.exists(f'{psrfm_info_dst[\"dst_param_path\"]}/{col}_{row}_params_{instance + 1}.txt'):\n",
    "                shutil.copy(f'{psrfm_info_dst[\"PSRFM_exe_path\"]}/psrfm_template.txt', f'{psrfm_info_dst[\"dst_param_path\"]}/{col}_{row}_params_{instance + 1}.txt')\n",
    "        Matching_date_indexes\n",
    "        for date in (fine_res_dates):\n",
    "            \n",
    "            \n",
    "            \n",
    "fine_res_filenames, mask_filenames, coarse_res_filenames, ref_dates, PSRFM_instances"
   ]
  },
  {
   "cell_type": "code",
   "execution_count": 53,
   "metadata": {},
   "outputs": [
    {
     "data": {
      "text/plain": [
       "{'driver': 'ENVI',\n",
       " 'dtype': 'uint8',\n",
       " 'nodata': None,\n",
       " 'width': 992,\n",
       " 'height': 992,\n",
       " 'count': 1,\n",
       " 'crs': CRS.from_epsg(32653),\n",
       " 'transform': Affine(30.0, 0.0, 412575.0,\n",
       "        0.0, -30.0, -2537985.0)}"
      ]
     },
     "execution_count": 53,
     "metadata": {},
     "output_type": "execute_result"
    }
   ],
   "source": []
  },
  {
   "cell_type": "code",
   "execution_count": 54,
   "metadata": {},
   "outputs": [],
   "source": []
  },
  {
   "cell_type": "code",
   "execution_count": null,
   "metadata": {},
   "outputs": [],
   "source": []
  },
  {
   "cell_type": "code",
   "execution_count": null,
   "metadata": {},
   "outputs": [],
   "source": []
  }
 ],
 "metadata": {
  "kernelspec": {
   "display_name": "Python 3",
   "language": "python",
   "name": "python3"
  },
  "language_info": {
   "codemirror_mode": {
    "name": "ipython",
    "version": 3
   },
   "file_extension": ".py",
   "mimetype": "text/x-python",
   "name": "python",
   "nbconvert_exporter": "python",
   "pygments_lexer": "ipython3",
   "version": "3.7.7"
  }
 },
 "nbformat": 4,
 "nbformat_minor": 4
}
