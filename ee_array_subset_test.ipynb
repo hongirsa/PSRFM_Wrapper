{
 "cells": [
  {
   "cell_type": "code",
   "execution_count": null,
   "metadata": {},
   "outputs": [],
   "source": [
    "%config IPCompleter.greedy=True"
   ]
  },
  {
   "cell_type": "code",
   "execution_count": 47,
   "metadata": {},
   "outputs": [],
   "source": [
    "from pprint import pprint\n",
    "import folium\n",
    "import geopy.distance\n",
    "import math\n",
    "import numpy as np"
   ]
  },
  {
   "cell_type": "code",
   "execution_count": 3,
   "metadata": {},
   "outputs": [
    {
     "data": {
      "text/html": [
       "<p>To authorize access needed by Earth Engine, open the following\n",
       "        URL in a web browser and follow the instructions:</p>\n",
       "        <p><a href=https://accounts.google.com/o/oauth2/auth?client_id=517222506229-vsmmajv00ul0bs7p89v5m89qs8eb9359.apps.googleusercontent.com&scope=https%3A%2F%2Fwww.googleapis.com%2Fauth%2Fearthengine+https%3A%2F%2Fwww.googleapis.com%2Fauth%2Fdevstorage.full_control&redirect_uri=urn%3Aietf%3Awg%3Aoauth%3A2.0%3Aoob&response_type=code&code_challenge=HYPVJD3SOYACZvFORinIKk2p-4R3r99fGBcK48nuCck&code_challenge_method=S256>https://accounts.google.com/o/oauth2/auth?client_id=517222506229-vsmmajv00ul0bs7p89v5m89qs8eb9359.apps.googleusercontent.com&scope=https%3A%2F%2Fwww.googleapis.com%2Fauth%2Fearthengine+https%3A%2F%2Fwww.googleapis.com%2Fauth%2Fdevstorage.full_control&redirect_uri=urn%3Aietf%3Awg%3Aoauth%3A2.0%3Aoob&response_type=code&code_challenge=HYPVJD3SOYACZvFORinIKk2p-4R3r99fGBcK48nuCck&code_challenge_method=S256</a></p>\n",
       "        <p>The authorization workflow will generate a code, which you\n",
       "        should paste in the box below</p>\n",
       "        "
      ],
      "text/plain": [
       "<IPython.core.display.HTML object>"
      ]
     },
     "metadata": {},
     "output_type": "display_data"
    },
    {
     "name": "stdin",
     "output_type": "stream",
     "text": [
      "Enter verification code:  4/1wFoql-ZFfZPtzDr0zGo5Bg1eYHbeHiWtVlieDiHhd3bBdTIOUzqmiE\n"
     ]
    },
    {
     "name": "stdout",
     "output_type": "stream",
     "text": [
      "\n",
      "Successfully saved authorization token.\n"
     ]
    }
   ],
   "source": [
    "import ee\n",
    "ee.Authenticate()"
   ]
  },
  {
   "cell_type": "code",
   "execution_count": 4,
   "metadata": {},
   "outputs": [],
   "source": [
    "ee.Initialize()"
   ]
  },
  {
   "cell_type": "code",
   "execution_count": 5,
   "metadata": {},
   "outputs": [],
   "source": [
    "# constants for each satellite\n",
    "ls5 = {\n",
    "    'imagecollection_id' : 'LANDSAT/LT05/C01/T1_SR',\n",
    "    'pixel_size' : 30,\n",
    "    'bands' : ['B1', 'B2', 'B3', 'B4', 'B5', 'B7', 'sr_cloud_qa'],\n",
    "    'time_field' : 'system:time_start'\n",
    "}\n",
    "ls8 = {\n",
    "    'imagecollection_id' : 'LANDSAT/LC08/C01/T1_SR',\n",
    "    'pixel_size' : 30,\n",
    "    'bands' : ['B2', 'B3', 'B4', 'B5', 'B6', 'B7', 'pixel_qa'],\n",
    "    'time_field' : 'SENSING_TIME'\n",
    "}\n",
    "s2 = {\n",
    "    'imagecollection_id' : 'COPERNICUS/S2_SR',\n",
    "    'pixel_size' : 20,\n",
    "    'bands' : ['B2', 'B3', 'B4', 'B8A', 'B11', 'B12', 'MSK_CLDPRB', 'QA60'], #check up msk and qa60 msk is 20m qa60 is 60m\n",
    "    'time_field' : 'system:time_start'\n",
    "}\n",
    "modis = {\n",
    "    'imagecollection_id' : 'MODIS/006/MCD43A4',\n",
    "    'pixel_size' : 500,\n",
    "    'bands' : ['Nadir_Reflectance_Band3', 'Nadir_Reflectance_Band4', 'Nadir_Reflectance_Band1', 'Nadir_Reflectance_Band2', 'Nadir_Reflectance_Band6', 'Nadir_Reflectance_Band7'],\n",
    "    'time_field' : 'system:time_start'\n",
    "}\n",
    "image_sets = {\n",
    "    'ls5' : ls5,\n",
    "    'ls8' : ls8,\n",
    "    's2' : s2,\n",
    "    'modis' : modis\n",
    "}"
   ]
  },
  {
   "cell_type": "code",
   "execution_count": 8,
   "metadata": {},
   "outputs": [],
   "source": [
    "# User inputted data\n",
    "west_long = 133.84410607205484\n",
    "east_long = west_long+(134.7422383962736 - west_long)/5 #temporary just to make a smaller area\n",
    "north_lat = -22.638743081339985\n",
    "south_lat = north_lat - (north_lat - (-23.52560283638598))/5 #temporary just to make a smaller area\n",
    "date_range = ('2014-08-01', '2015-12-31')\n",
    "satellite_choice = 'ls8'\n",
    "\n",
    "# calculated baseline variables from user data\n",
    "corner_coords = [[east_long, south_lat], [west_long, south_lat], [west_long, north_lat], [east_long, north_lat], [east_long, south_lat]]\n",
    "block_size = math.floor(image_sets['modis']['pixel_size']/image_sets[satellite_choice]['pixel_size'])\n",
    "# minimum tile size is 128, this following formula just accounts for how many pixels we need at minimum to have it as a multiple of block size which is a PSRFM req\n",
    "min_tile_dim_px = block_size*10\n",
    "min_tile_dim_km = (min_tile_dim_px * image_sets[satellite_choice]['pixel_size'])/1000\n",
    "# min_tile_dim_km,east_long, block_size"
   ]
  },
  {
   "cell_type": "code",
   "execution_count": 67,
   "metadata": {},
   "outputs": [
    {
     "data": {
      "text/plain": [
       "(3,\n",
       " 4,\n",
       " 0.06922666497506885,\n",
       " 0.05301192499852869,\n",
       " [133.8160525419734,\n",
       "  133.88527920694847,\n",
       "  133.95450587192352,\n",
       "  134.0237325368986],\n",
       " [133.84410607205484,\n",
       "  133.91333273702992,\n",
       "  133.98255940200497,\n",
       "  134.05178606698004],\n",
       " array([[<ee.geometry.Geometry object at 0x00000216BAE98688>,\n",
       "         <ee.geometry.Geometry object at 0x00000216BAE98288>,\n",
       "         <ee.geometry.Geometry object at 0x00000216BAE8B548>,\n",
       "         <ee.geometry.Geometry object at 0x00000216BAE8B9C8>],\n",
       "        [<ee.geometry.Geometry object at 0x00000216BAE8B448>,\n",
       "         <ee.geometry.Geometry object at 0x00000216BAE84E08>,\n",
       "         <ee.geometry.Geometry object at 0x00000216BAE80888>,\n",
       "         <ee.geometry.Geometry object at 0x00000216BAE80C48>],\n",
       "        [<ee.geometry.Geometry object at 0x00000216BAE73CC8>,\n",
       "         <ee.geometry.Geometry object at 0x00000216BACFB288>,\n",
       "         <ee.geometry.Geometry object at 0x00000216BAF02388>,\n",
       "         <ee.geometry.Geometry object at 0x00000216BACD0288>]],\n",
       "       dtype=object))"
      ]
     },
     "execution_count": 67,
     "metadata": {},
     "output_type": "execute_result"
    }
   ],
   "source": [
    "# Creating tiles within the specified geometry\n",
    "# first calculate the side lengths of the region selected\n",
    "x_dist = geopy.distance.geodesic([south_lat, east_long], [south_lat, west_long]).km\n",
    "y_dist = geopy.distance.geodesic([north_lat, east_long], [south_lat, east_long]).km\n",
    "\n",
    "# determine the number of tile segments to fully cover the region, rounded up to ensure overlap\n",
    "# need to look at this later to ensure that each tile has enough of an overlap to ensure pixels are a multiple of block size (aka cropping)\n",
    "x_tile_segments = math.floor(x_dist/min_tile_dim_km)\n",
    "y_tile_segments = math.floor(y_dist/min_tile_dim_km)\n",
    "\n",
    "# generate a list of ordered coordinates (west to east, north to south) based on the number of tiles\n",
    "# creating an overlap of approx 2*block_size pixels to ensure that each tile after cropping for PSRFM will still retain some overlap\n",
    "long_to_km = abs(east_long - west_long)/x_dist\n",
    "lat_to_km = abs(north_lat - south_lat)/y_dist\n",
    "long_overlap = ((2 * block_size * image_sets[satellite_choice]['pixel_size'])/1000) * long_to_km\n",
    "lat_overlap = ((2 * block_size * image_sets[satellite_choice]['pixel_size'])/1000) * lat_to_km\n",
    "\n",
    "# determining the coordinate jumps for each tile(sans overlap)\n",
    "x_coord_increment = abs(east_long - west_long)/x_tile_segments + long_overlap\n",
    "y_coord_increment = abs(north_lat - south_lat)/y_tile_segments + lat_overlap\n",
    "\n",
    "# creating the lists\n",
    "west_tile_coords = [east_long - tile_no * x_coord_increment for tile_no in reversed(range(x_tile_segments + 1))]\n",
    "east_tile_coords = [west_long + tile_no * x_coord_increment for tile_no in range(x_tile_segments+1)]\n",
    "\n",
    "north_tile_coords = [south_lat + tile_no * y_coord_increment for tile_no in range(y_tile_segments + 1)]\n",
    "south_tile_coords = [north_lat - tile_no * y_coord_increment for tile_no in reversed(range(y_tile_segments + 1))]\n",
    "\n",
    "# corner_coords = [[east_long, south_lat], [west_long, south_lat], \n",
    "# [west_long, north_lat], [east_long, north_lat], [east_long, south_lat]]\n",
    "tiles = np.empty((x_tile_segments, y_tile_segments), ee.Geometry)\n",
    "for col in range(x_tile_segments):\n",
    "    east_coord = east_tile_coords[col]\n",
    "    west_coord = west_tile_coords[col]\n",
    "    for row in range(y_tile_segments):\n",
    "        north_coord = north_tile_coords[row]\n",
    "        south_coord = south_tile_coords[row]\n",
    "        tile_coords = [[east_coord, south_coord], [west_coord, south_coord], [west_coord, north_coord], [east_coord, north_coord], [east_coord, south_coord]]\n",
    "        tiles[col, row] = (ee.Geometry.Polygon(tile_coords))\n",
    "        \n",
    "x_tile_segments, y_tile_segments, x_coord_increment, y_coord_increment, west_tile_coords, east_tile_coords, tiles"
   ]
  },
  {
   "cell_type": "code",
   "execution_count": 68,
   "metadata": {},
   "outputs": [
    {
     "data": {
      "text/plain": [
       "array([[<ee.imagecollection.ImageCollection object at 0x00000216BAED5188>,\n",
       "        <ee.imagecollection.ImageCollection object at 0x00000216BAECD308>,\n",
       "        <ee.imagecollection.ImageCollection object at 0x00000216BAEC72C8>,\n",
       "        <ee.imagecollection.ImageCollection object at 0x00000216BAEAB6C8>],\n",
       "       [<ee.imagecollection.ImageCollection object at 0x00000216BAEA5288>,\n",
       "        <ee.imagecollection.ImageCollection object at 0x00000216BAF02F48>,\n",
       "        <ee.imagecollection.ImageCollection object at 0x00000216BACE3208>,\n",
       "        <ee.imagecollection.ImageCollection object at 0x00000216BAEE86C8>],\n",
       "       [<ee.imagecollection.ImageCollection object at 0x00000216BACD0C48>,\n",
       "        <ee.imagecollection.ImageCollection object at 0x00000216BAEE8F88>,\n",
       "        <ee.imagecollection.ImageCollection object at 0x00000216BAE6C308>,\n",
       "        <ee.imagecollection.ImageCollection object at 0x00000216BAE63C08>]],\n",
       "      dtype=object)"
      ]
     },
     "execution_count": 68,
     "metadata": {},
     "output_type": "execute_result"
    }
   ],
   "source": [
    "#getting a filtered and sorted imagecollection\n",
    "# later should be getting a collection of imagecollections each representing a seperate tile\n",
    "tile_collections = np.empty((x_tile_segments, y_tile_segments), ee.ImageCollection)\n",
    "# collection = ee.ImageCollection(image_sets[satellite_choice]['imagecollection_id']).filterBounds(region).filterDate(*date_range).filterMetadata('CLOUD_COVER','less_than', 10).sort(image_sets[satellite_choice]['time_field'])\n",
    "for col in range(x_tile_segments):\n",
    "    for row in range(y_tile_segments):\n",
    "        collection = ee.ImageCollection(image_sets[satellite_choice]['imagecollection_id']).filterBounds(tiles[col, row]).filterDate(*date_range).filterMetadata('CLOUD_COVER','less_than', 10).sort(image_sets[satellite_choice]['time_field'])\n",
    "        tile_collections[col, row] = collection.map(lambda image: image.clip(region))\n",
    "\n",
    "# pprint(collection.getInfo())\n",
    "# img_list = (collection.map(lambda image: image.clip(region))).toList(collection.size())\n",
    "tile_collections"
   ]
  },
  {
   "cell_type": "code",
   "execution_count": 80,
   "metadata": {},
   "outputs": [
    {
     "data": {
      "text/plain": [
       "array([[<ee.image.Image object at 0x00000216BAC8FB88>,\n",
       "        <ee.image.Image object at 0x00000216B7A7A4C8>,\n",
       "        <ee.image.Image object at 0x00000216BAE63308>,\n",
       "        <ee.image.Image object at 0x00000216BAE63448>],\n",
       "       [<ee.image.Image object at 0x00000216BAE633C8>,\n",
       "        <ee.image.Image object at 0x00000216BAE63A48>,\n",
       "        <ee.image.Image object at 0x00000216BAE67488>,\n",
       "        <ee.image.Image object at 0x00000216BAE67148>],\n",
       "       [<ee.image.Image object at 0x00000216BAE67F08>,\n",
       "        <ee.image.Image object at 0x00000216BAE67788>,\n",
       "        <ee.image.Image object at 0x00000216BAE67688>,\n",
       "        <ee.image.Image object at 0x00000216BAEC7048>]], dtype=object)"
      ]
     },
     "execution_count": 80,
     "metadata": {},
     "output_type": "execute_result"
    }
   ],
   "source": [
    "test_imgs = np.empty((x_tile_segments, y_tile_segments), ee.Image)\n",
    "for col in range(x_tile_segments):\n",
    "    for row in range(y_tile_segments):\n",
    "        test_imgs[col, row] = ee.Image(tile_collections[col, row].first())\n",
    "\n",
    "test_imgs"
   ]
  },
  {
   "cell_type": "code",
   "execution_count": 83,
   "metadata": {},
   "outputs": [
    {
     "data": {
      "text/plain": [
       "array([[{'mapid': 'projects/earthengine-legacy/maps/d2aa0e32ebffaa8463a23aef0c777ca9-9a6b8303f08520c1c8472217edae0244', 'token': '', 'tile_fetcher': <ee.data.TileFetcher object at 0x00000216BAC86908>, 'image': <ee.image.Image object at 0x00000216BAC8FB88>},\n",
       "        {'mapid': 'projects/earthengine-legacy/maps/d2aa0e32ebffaa8463a23aef0c777ca9-30b1f5ad9101e0b4143ca43001885e9e', 'token': '', 'tile_fetcher': <ee.data.TileFetcher object at 0x00000216BACEF148>, 'image': <ee.image.Image object at 0x00000216B7A7A4C8>},\n",
       "        {'mapid': 'projects/earthengine-legacy/maps/d2aa0e32ebffaa8463a23aef0c777ca9-4eb612c139cbf06c15feef0da0ef413e', 'token': '', 'tile_fetcher': <ee.data.TileFetcher object at 0x00000216B9EA5888>, 'image': <ee.image.Image object at 0x00000216BAE63308>},\n",
       "        {'mapid': 'projects/earthengine-legacy/maps/d2aa0e32ebffaa8463a23aef0c777ca9-20f387c266fe87d3f5a3c323ba836cd2', 'token': '', 'tile_fetcher': <ee.data.TileFetcher object at 0x00000216BA5EA7C8>, 'image': <ee.image.Image object at 0x00000216BAE63448>}],\n",
       "       [{'mapid': 'projects/earthengine-legacy/maps/d2aa0e32ebffaa8463a23aef0c777ca9-5ff7f70425e6a7a05f91935952a106f4', 'token': '', 'tile_fetcher': <ee.data.TileFetcher object at 0x00000216BAB3D9C8>, 'image': <ee.image.Image object at 0x00000216BAE633C8>},\n",
       "        {'mapid': 'projects/earthengine-legacy/maps/d2aa0e32ebffaa8463a23aef0c777ca9-e2049b0afd417770e9735e7fe16df6ec', 'token': '', 'tile_fetcher': <ee.data.TileFetcher object at 0x00000216BAF81B08>, 'image': <ee.image.Image object at 0x00000216BAE63A48>},\n",
       "        {'mapid': 'projects/earthengine-legacy/maps/d2aa0e32ebffaa8463a23aef0c777ca9-c057986ab2aa8b5fae8c8f338d12b4af', 'token': '', 'tile_fetcher': <ee.data.TileFetcher object at 0x00000216BACD28C8>, 'image': <ee.image.Image object at 0x00000216BAE67488>},\n",
       "        {'mapid': 'projects/earthengine-legacy/maps/d2aa0e32ebffaa8463a23aef0c777ca9-0a542253b518916de1efcdacf2340e74', 'token': '', 'tile_fetcher': <ee.data.TileFetcher object at 0x00000216BAC81088>, 'image': <ee.image.Image object at 0x00000216BAE67148>}],\n",
       "       [{'mapid': 'projects/earthengine-legacy/maps/d2aa0e32ebffaa8463a23aef0c777ca9-f7e61e3d21464937aaaaf3cc041b24fb', 'token': '', 'tile_fetcher': <ee.data.TileFetcher object at 0x00000216B9EFE6C8>, 'image': <ee.image.Image object at 0x00000216BAE67F08>},\n",
       "        {'mapid': 'projects/earthengine-legacy/maps/d2aa0e32ebffaa8463a23aef0c777ca9-6ccdf2940820ea21b66a2caea2e6a923', 'token': '', 'tile_fetcher': <ee.data.TileFetcher object at 0x00000216B7AB3948>, 'image': <ee.image.Image object at 0x00000216BAE67788>},\n",
       "        {'mapid': 'projects/earthengine-legacy/maps/d2aa0e32ebffaa8463a23aef0c777ca9-3097c5b6ab2509c65742b08645e8bf38', 'token': '', 'tile_fetcher': <ee.data.TileFetcher object at 0x00000216BAFD0848>, 'image': <ee.image.Image object at 0x00000216BAE67688>},\n",
       "        {'mapid': 'projects/earthengine-legacy/maps/d2aa0e32ebffaa8463a23aef0c777ca9-38a1ec743788bade0da1b395c68598da', 'token': '', 'tile_fetcher': <ee.data.TileFetcher object at 0x00000216BAAC5F48>, 'image': <ee.image.Image object at 0x00000216BAEC7048>}]],\n",
       "      dtype=object)"
      ]
     },
     "execution_count": 83,
     "metadata": {},
     "output_type": "execute_result"
    }
   ],
   "source": [
    "mapIdDicts = np.empty((x_tile_segments, y_tile_segments), dict)\n",
    "for col in range(x_tile_segments):\n",
    "    for row in range(y_tile_segments):\n",
    "        mapIdDicts[col, row] = (test_imgs[col, row]).getMapId({'bands': ['B4', 'B3', 'B2'], 'min': 93, 'max': 1801})\n",
    "mapIdDicts"
   ]
  },
  {
   "cell_type": "code",
   "execution_count": 81,
   "metadata": {},
   "outputs": [
    {
     "data": {
      "text/html": [
       "<div style=\"width:100%;\"><div style=\"position:relative;width:100%;height:0;padding-bottom:60%;\"><span style=\"color:#565656\">Make this Notebook Trusted to load map: File -> Trust Notebook</span><iframe src=\"about:blank\" style=\"position:absolute;width:100%;height:100%;left:0;top:0;border:none !important;\" data-html=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 onload=\"this.contentDocument.open();this.contentDocument.write(atob(this.getAttribute('data-html')));this.contentDocument.close();\" allowfullscreen webkitallowfullscreen mozallowfullscreen></iframe></div></div>"
      ],
      "text/plain": [
       "<folium.folium.Map at 0x216bab54248>"
      ]
     },
     "execution_count": 81,
     "metadata": {},
     "output_type": "execute_result"
    }
   ],
   "source": [
    "# Visualizing the image\n",
    "# mapIdDicts = np.empty((x_tile_segments, y_tile_segments), dict)\n",
    "# for col in range(x_tile_segments):\n",
    "#     for row in range(y_tile_segments):\n",
    "#         mapIdDicts[col, row] = (test_imgs[col, row]).getMapId({'bands': ['B4', 'B3', 'B2'], 'min': 93, 'max': 1801})\n",
    "\n",
    "\n",
    "center_x = corner_coords[0][0] + (corner_coords[1][0] - corner_coords[0][0])/2\n",
    "center_y = corner_coords[1][1] + (corner_coords[1][1] - corner_coords[2][1])/2\n",
    "\n",
    "map = folium.Map(location=[center_x, center_y])\n",
    "for col in range(x_tile_segments):\n",
    "    for row in range(y_tile_segments):\n",
    "        folium.TileLayer(\n",
    "            tiles = mapIdDicts[col, row]['tile_fetcher'].url_format,\n",
    "            attr='Map Data &copy; <a href=https://earthengine.google.com/>Google Earth Engine</a>',\n",
    "            overlay=True,\n",
    "            name=f'img{col}, {row}',\n",
    "        ).add_to(map)\n",
    "map.add_child(folium.LayerControl())\n",
    "map"
   ]
  },
  {
   "cell_type": "code",
   "execution_count": null,
   "metadata": {},
   "outputs": [],
   "source": []
  }
 ],
 "metadata": {
  "kernelspec": {
   "display_name": "Python 3",
   "language": "python",
   "name": "python3"
  },
  "language_info": {
   "codemirror_mode": {
    "name": "ipython",
    "version": 3
   },
   "file_extension": ".py",
   "mimetype": "text/x-python",
   "name": "python",
   "nbconvert_exporter": "python",
   "pygments_lexer": "ipython3",
   "version": "3.7.7"
  }
 },
 "nbformat": 4,
 "nbformat_minor": 4
}
